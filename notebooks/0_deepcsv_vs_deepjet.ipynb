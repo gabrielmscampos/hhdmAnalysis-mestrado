{
 "cells": [
  {
   "cell_type": "code",
   "execution_count": 1,
   "id": "3b10a496-f11a-4948-bcda-9573051c01b9",
   "metadata": {},
   "outputs": [],
   "source": [
    "import pprint\n",
    "import json\n",
    "from pathlib import Path\n",
    "\n",
    "from tqdm import tqdm\n",
    "import numpy as np\n",
    "import pandas as pd\n",
    "import matplotlib.pyplot as plt\n",
    "import matplotlib.gridspec as gs\n",
    "import anatools.data as data\n",
    "import anatools.analysis as ana\n",
    "\n",
    "from hhdm_analysis.utils import signal_label, stack_sorting, position, process_signals\n",
    "\n",
    "ana.start()\n",
    "plt.style.use(\"default\")"
   ]
  },
  {
   "cell_type": "markdown",
   "id": "69a2dde3-6ea7-4a5e-852e-d3e5df170346",
   "metadata": {},
   "source": [
    "# Setup config"
   ]
  },
  {
   "cell_type": "code",
   "execution_count": 2,
   "id": "41ddaea7-ff0a-41ed-b4b7-b6181167e6bd",
   "metadata": {},
   "outputs": [],
   "source": [
    "period = 'APV_16'\n",
    "year_style = 2016\n",
    "dataset_year = \"APV_2016\"\n",
    "basedir = '/home/gamoreir/SanDisk/physics/hhdmAnalysis_deepJet_Regions/datasets'\n",
    "basedir2 = '/home/gamoreir/SanDisk/physics/hhdmAnalysis_deepCSV_SR/datasets'\n",
    "region_id = 0 # Signal region\n",
    "\n",
    "# Setup output folders\n",
    "dataset_name = basedir.split('/')[-2]\n",
    "plots_path = f\"./figures/{dataset_name}/{dataset_year}\"\n",
    "available_region_ids = [0]\n",
    "for available_region_id in available_region_ids:\n",
    "    Path(f\"{plots_path}/regionID={available_region_id}\").mkdir(parents=True, exist_ok=True)\n",
    "    \n",
    "# Setup output folders\n",
    "dataset_name2 = basedir2.split('/')[-2]\n",
    "plots_path2 = f\"./figures/{dataset_name2}/{dataset_year}\"\n",
    "available_region_ids = [0]\n",
    "for available_region_id in available_region_ids:\n",
    "    Path(f\"{plots_path2}/regionID={available_region_id}\").mkdir(parents=True, exist_ok=True)"
   ]
  },
  {
   "cell_type": "markdown",
   "id": "598f00b8-bac2-4b39-a93e-c25138e117f8",
   "metadata": {},
   "source": [
    "# Read metadata"
   ]
  },
  {
   "cell_type": "code",
   "execution_count": 3,
   "id": "ed29cd29-884d-43df-9ce9-e7ee942d0645",
   "metadata": {},
   "outputs": [],
   "source": [
    "with open(\"../metadata.json\", \"r\") as f:\n",
    "    metadata = json.load(f)\n",
    "\n",
    "ST = metadata.get(\"datasets\").get(\"ST\")\n",
    "TT = metadata.get(\"datasets\").get(\"TT\")\n",
    "ZZ = metadata.get(\"datasets\").get(\"ZZ\")\n",
    "WZ = metadata.get(\"datasets\").get(\"WZ\")\n",
    "DY = metadata.get(\"datasets\").get(\"DY\")\n",
    "RESIDUAL = metadata.get(\"datasets\").get(\"RESIDUAL\")\n",
    "DATA = metadata.get(\"datasets\").get(\"DATA\")"
   ]
  },
  {
   "cell_type": "markdown",
   "id": "5e8f6a3b-519b-4bea-bb71-eea68bcb643b",
   "metadata": {},
   "source": [
    "# Read data"
   ]
  },
  {
   "cell_type": "code",
   "execution_count": 4,
   "id": "6a88c408-50e0-45ef-8c12-4fc69f9ffbd7",
   "metadata": {},
   "outputs": [
    {
     "name": "stdout",
     "output_type": "stream",
     "text": [
      "\n",
      "Loading datasets...\n"
     ]
    },
    {
     "name": "stderr",
     "output_type": "stream",
     "text": [
      "100%|██████████| 72/72 [00:02<00:00, 33.51it/s]\n"
     ]
    },
    {
     "name": "stdout",
     "output_type": "stream",
     "text": [
      "\n",
      "Loading datasets...\n"
     ]
    },
    {
     "name": "stderr",
     "output_type": "stream",
     "text": [
      "100%|██████████| 76/76 [00:03<00:00, 22.03it/s]\n"
     ]
    }
   ],
   "source": [
    "variables = [\"RegionID\", \"evtWeight\", \"LeadingJet_btag_score\", \"SubLeadingJet_btag_score\"]\n",
    "\n",
    "# Read data generated with DeepJet\n",
    "ds_deepjet = data.read_files(basedir, period, mode=\"normal\", features=variables)\n",
    "data.join_datasets(ds_deepjet, \"ST\", ST.get(period), mode=\"normal\")\n",
    "data.join_datasets(ds_deepjet, \"TT\", TT.get(period), mode=\"normal\")\n",
    "data.join_datasets(ds_deepjet, \"ZZ\", ZZ.get(period), mode=\"normal\")\n",
    "data.join_datasets(ds_deepjet, \"WZ\", WZ.get(period), mode=\"normal\")\n",
    "data.join_datasets(ds_deepjet, \"DYJetsToLL\", DY.get(period), mode=\"normal\")\n",
    "data.join_datasets(ds_deepjet, \"Residual\", RESIDUAL.get(period), mode=\"normal\")\n",
    "data.join_datasets(ds_deepjet, \"Data\", DATA.get(period), mode=\"normal\")\n",
    "\n",
    "# Read data generated with DeepCSV\n",
    "ds_deepcsv = data.read_files(basedir2, period, mode=\"normal\", features=variables)\n",
    "data.join_datasets(ds_deepcsv, \"ST\", ST.get(period), mode=\"normal\")\n",
    "data.join_datasets(ds_deepcsv, \"TT\", TT.get(period), mode=\"normal\")\n",
    "data.join_datasets(ds_deepcsv, \"ZZ\", ZZ.get(period), mode=\"normal\")\n",
    "data.join_datasets(ds_deepcsv, \"WZ\", WZ.get(period), mode=\"normal\")\n",
    "data.join_datasets(ds_deepcsv, \"DYJetsToLL\", DY.get(period), mode=\"normal\")\n",
    "data.join_datasets(ds_deepcsv, \"Residual\", RESIDUAL.get(period), mode=\"normal\")\n",
    "data.join_datasets(ds_deepcsv, \"Data\", DATA.get(period), mode=\"normal\")"
   ]
  },
  {
   "cell_type": "markdown",
   "id": "93ce0bc9-6c6b-4f9b-bff0-a91698bcac40",
   "metadata": {},
   "source": [
    "# Prepare datasets to plot"
   ]
  },
  {
   "cell_type": "code",
   "execution_count": 5,
   "id": "0d97a2b0-994a-4e09-9c4b-2d62ed4581e9",
   "metadata": {},
   "outputs": [
    {
     "name": "stdout",
     "output_type": "stream",
     "text": [
      "      Datasets  Number of events\n",
      "0  Residual SM        603.217184\n",
      "1         $ZZ$        126.119894\n",
      "2         $WZ$        244.033991\n",
      "3   Single top       1832.521253\n",
      "4   $t\\bar{t}$       8883.692865\n",
      "5    Drell-Yan      27359.676555\n",
      "Purity: 0.7006451680318946\n",
      "      Datasets  Number of events\n",
      "0  Residual SM        586.940934\n",
      "1         $ZZ$        112.748568\n",
      "2         $WZ$        212.146111\n",
      "3   Single top       1751.006013\n",
      "4   $t\\bar{t}$       8621.115281\n",
      "5    Drell-Yan      25291.440777\n",
      "Purity: 0.6914877862862291\n"
     ]
    }
   ],
   "source": [
    "# DeepJet\n",
    "colors_list = [\"gainsboro\", \"orchid\", \"limegreen\", \"red\", \"skyblue\", \"darkgoldenrod\"]\n",
    "labels_list = [r\"Residual SM\", r\"$WZ$\", r\"$ZZ$\", \"Single top\", r\"$t\\bar{t}$\", \"Drell-Yan\"]\n",
    "bkg_list = [\"Residual\", \"WZ\", \"ZZ\", \"ST\", \"TT\", \"DYJetsToLL\"]\n",
    "ds_deepjet = {k: v[v.RegionID == region_id] for k,v in ds_deepjet.items()}\n",
    "dataframes_deepjet, labels_deepjet, colors_deepjet = stack_sorting(ds_deepjet, colors_list, labels_list, bkg_list)\n",
    "\n",
    "# DeepCSV\n",
    "colors_list = [\"gainsboro\", \"orchid\", \"limegreen\", \"red\", \"skyblue\", \"darkgoldenrod\"]\n",
    "labels_list = [r\"Residual SM\", r\"$WZ$\", r\"$ZZ$\", \"Single top\", r\"$t\\bar{t}$\", \"Drell-Yan\"]\n",
    "bkg_list = [\"Residual\", \"WZ\", \"ZZ\", \"ST\", \"TT\", \"DYJetsToLL\"]\n",
    "ds_deepcsv = {k: v[v.RegionID == region_id] for k,v in ds_deepcsv.items()}\n",
    "dataframes_deepcsv, labels_deepcsv, colors_deepcsv = stack_sorting(ds_deepcsv, colors_list, labels_list, bkg_list)"
   ]
  },
  {
   "cell_type": "markdown",
   "id": "96cca2fc-ebbc-4cc0-8657-b4b98f88c6b2",
   "metadata": {},
   "source": [
    "# Define variables to plot"
   ]
  },
  {
   "cell_type": "code",
   "execution_count": 6,
   "id": "ba1c2331-bcb3-4520-9c2c-44d9f5c5ea59",
   "metadata": {},
   "outputs": [],
   "source": [
    "# Signals to use in plot\n",
    "signal_to_use = process_signals([\n",
    "    (\"Signal_400_100\", \"darkviolet\"),\n",
    "    (\"Signal_1000_100\", \"blue\")\n",
    "])\n",
    "\n",
    "# Variables to plot\n",
    "variables = [\n",
    "    ('LeadingJet_btag_score', 'leading jet btag score', 0, 1, 51, 5001),\n",
    "    ('SubLeadingJet_btag_score', 'subleading jet btag score', 0, 1, 51, 5001),\n",
    "]"
   ]
  },
  {
   "cell_type": "markdown",
   "id": "0bff04b7-a1ce-4548-b735-bbf0da7c8c15",
   "metadata": {},
   "source": [
    "# Plot distributions DeepJet"
   ]
  },
  {
   "cell_type": "code",
   "execution_count": 7,
   "id": "65abdd37-21fa-4b10-a4f1-8d3c68e8fd2d",
   "metadata": {},
   "outputs": [
    {
     "name": "stderr",
     "output_type": "stream",
     "text": [
      "  0%|          | 0/2 [00:00<?, ?it/s]/mnt/wsl/PHYSICALDRIVE2/Physics/masters_research/workspace/hhdmAnalysis/.venv/lib/python3.8/site-packages/anatools/analysis/control.py:82: RuntimeWarning: invalid value encountered in true_divide\n",
      "  self.purity = self.hist_signal/(self.hist_signal + self.hist_others)\n",
      "100%|██████████| 2/2 [00:04<00:00,  2.02s/it]\n"
     ]
    }
   ],
   "source": [
    "for var, xlabel, xmin, xmax, nbins, nbins_control in tqdm(variables):\n",
    "\n",
    "    bins = np.linspace(xmin, xmax, nbins)\n",
    "    bins_control = np.linspace(xmin, xmax, nbins_control)\n",
    "\n",
    "    # Plot config\n",
    "    fig = plt.figure(figsize=(7,10))\n",
    "    grid = [2,1] # number of rows, number of cols\n",
    "    gspec = gs.GridSpec(grid[0], grid[1], width_ratios=[1], height_ratios=[4,1])\n",
    "\n",
    "    # Main plot\n",
    "    ax1 = plt.subplot(position(gspec, grid, main=1, sub=1)) # main is column number, sub is row number\n",
    "    for signal in signal_to_use:\n",
    "        ana.step_plot(\n",
    "            ax1, var, ds_deepjet[signal[\"key\"]],\n",
    "            label=signal[\"label\"], color=signal[\"color\"],\n",
    "            weight=\"evtWeight\", bins=bins\n",
    "        )\n",
    "        \n",
    "    ybkg, errbkg = ana.stacked_plot(ax1, var, dataframes_deepjet, labels_deepjet, colors_deepjet, weight=\"evtWeight\", bins=bins)\n",
    "    btagging_values = metadata.get(\"btagging\").get(dataset_year).get(\"DeepJet\")\n",
    "    btagging_colors = [\"red\", \"green\", \"blue\"]\n",
    "    for idx, (wp_name, wp_value) in enumerate(btagging_values.items()):\n",
    "        ax1.axvline(x=wp_value, label=wp_name, color=btagging_colors[idx], linestyle=\"dotted\")\n",
    "    \n",
    "    ana.labels(ax1, ylabel=\"Events\")\n",
    "    ana.style(\n",
    "        ax1, lumi=metadata[\"luminosity\"].get(dataset_year), year=year_style,\n",
    "        ylog=True, legend_ncol=2, ylim=[1.e-2,1.e8]\n",
    "    )\n",
    "    \n",
    "    # Sub plot\n",
    "    ax2 = plt.subplot(position(gspec, grid, main=1, sub=2)) # main is column number, sub is row number\n",
    "    ctr = ana.control(var, [ds_deepjet[signal[\"key\"]]], dataframes_deepjet, weight=\"evtWeight\", bins=bins_control)\n",
    "    ctr.signal_eff_plot(label=signal[\"label\"])\n",
    "    ctr.bkg_eff_plot(label=\"Background\")\n",
    "    ana.labels(ax2, xlabel=xlabel + \" [DeepJet]\", ylabel=\"Efficiency\")\n",
    "    ana.style(ax2, ylim=[0., 1.1], yticks=[0., 0.2, 0.4, 0.6, 0.8, 1.], xgrid=True, ygrid=True)\n",
    "\n",
    "    btagging_values = metadata.get(\"btagging\").get(dataset_year).get(\"DeepJet\")\n",
    "    btagging_colors = [\"red\", \"green\", \"blue\"]\n",
    "    for idx, (wp_name, wp_value) in enumerate(btagging_values.items()):\n",
    "        ax2.axvline(x=wp_value, label=wp_name, color=btagging_colors[idx], linestyle=\"dotted\")\n",
    "    \n",
    "    # Save\n",
    "    plt.savefig(f\"{plots_path}/regionID={region_id}/{var}_deepJet.png\", dpi=200, facecolor='white')\n",
    "    plt.close()\n"
   ]
  },
  {
   "cell_type": "markdown",
   "id": "8b4714da-842b-4b4c-8421-8b13ac7fbd73",
   "metadata": {},
   "source": [
    "# Plot distributions DeepCSV"
   ]
  },
  {
   "cell_type": "code",
   "execution_count": 8,
   "id": "35dfd652-28a4-4085-b5ef-52597c4eaf96",
   "metadata": {},
   "outputs": [
    {
     "name": "stderr",
     "output_type": "stream",
     "text": [
      "100%|██████████| 2/2 [00:03<00:00,  1.86s/it]\n"
     ]
    }
   ],
   "source": [
    "for var, xlabel, xmin, xmax, nbins, nbins_control in tqdm(variables):\n",
    "\n",
    "    bins = np.linspace(xmin, xmax, nbins)\n",
    "    bins_control = np.linspace(xmin, xmax, nbins_control)\n",
    "\n",
    "    # Plot config\n",
    "    fig = plt.figure(figsize=(7,10))\n",
    "    grid = [2,1] # number of rows, number of cols\n",
    "    gspec = gs.GridSpec(grid[0], grid[1], width_ratios=[1], height_ratios=[4,1])\n",
    "\n",
    "    # Main plot\n",
    "    ax1 = plt.subplot(position(gspec, grid, main=1, sub=1)) # main is column number, sub is row number\n",
    "    for signal in signal_to_use:\n",
    "        ana.step_plot(\n",
    "            ax1, var, ds_deepcsv[signal[\"key\"]],\n",
    "            label=signal[\"label\"], color=signal[\"color\"],\n",
    "            weight=\"evtWeight\", bins=bins\n",
    "        )\n",
    "        \n",
    "    ybkg, errbkg = ana.stacked_plot(ax1, var, dataframes_deepcsv, labels_deepcsv, colors_deepcsv, weight=\"evtWeight\", bins=bins)\n",
    "    btagging_values = metadata.get(\"btagging\").get(dataset_year).get(\"DeepCSV\")\n",
    "    btagging_colors = [\"red\", \"green\", \"blue\"]\n",
    "    for idx, (wp_name, wp_value) in enumerate(btagging_values.items()):\n",
    "        ax1.axvline(x=wp_value, label=wp_name, color=btagging_colors[idx], linestyle=\"dotted\")\n",
    "    \n",
    "    ana.labels(ax1, ylabel=\"Events\")\n",
    "    ana.style(\n",
    "        ax1, lumi=metadata[\"luminosity\"].get(dataset_year), year=year_style,\n",
    "        ylog=True, legend_ncol=2, ylim=[1.e-2,1.e8]\n",
    "    )\n",
    "    \n",
    "    # Sub plot\n",
    "    ax2 = plt.subplot(position(gspec, grid, main=1, sub=2)) # main is column number, sub is row number\n",
    "    ctr = ana.control(var, [ds_deepcsv[signal[\"key\"]]], dataframes_deepcsv, weight=\"evtWeight\", bins=bins_control)\n",
    "    ctr.signal_eff_plot(label=signal[\"label\"])\n",
    "    ctr.bkg_eff_plot(label=\"Background\")\n",
    "    ana.labels(ax2, xlabel=xlabel + \" [DeepCSV]\", ylabel=\"Efficiency\")\n",
    "    ana.style(ax2, ylim=[0., 1.1], yticks=[0., 0.2, 0.4, 0.6, 0.8, 1.], xgrid=True, ygrid=True)\n",
    "\n",
    "    btagging_values = metadata.get(\"btagging\").get(dataset_year).get(\"DeepCSV\")\n",
    "    btagging_colors = [\"red\", \"green\", \"blue\"]\n",
    "    for idx, (wp_name, wp_value) in enumerate(btagging_values.items()):\n",
    "        ax2.axvline(x=wp_value, label=wp_name, color=btagging_colors[idx], linestyle=\"dotted\")\n",
    "    \n",
    "    # Save\n",
    "    plt.savefig(f\"{plots_path2}/regionID={region_id}/{var}_deepCSV.png\", dpi=200, facecolor='white')\n",
    "    plt.close()\n"
   ]
  },
  {
   "cell_type": "code",
   "execution_count": null,
   "id": "8041e6fd-3674-4c80-97cc-fe04726f5102",
   "metadata": {},
   "outputs": [],
   "source": []
  }
 ],
 "metadata": {
  "kernelspec": {
   "display_name": "Python 3 (ipykernel)",
   "language": "python",
   "name": "python3"
  },
  "language_info": {
   "codemirror_mode": {
    "name": "ipython",
    "version": 3
   },
   "file_extension": ".py",
   "mimetype": "text/x-python",
   "name": "python",
   "nbconvert_exporter": "python",
   "pygments_lexer": "ipython3",
   "version": "3.8.12"
  }
 },
 "nbformat": 4,
 "nbformat_minor": 5
}
