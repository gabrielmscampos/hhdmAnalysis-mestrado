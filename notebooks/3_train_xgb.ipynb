{
 "cells": [
  {
   "cell_type": "code",
   "execution_count": 1,
   "metadata": {},
   "outputs": [],
   "source": [
    "import json\n",
    "from pathlib import Path\n",
    "\n",
    "import pandas as pd\n",
    "import matplotlib.pyplot as plt\n",
    "import anatools.analysis as ana\n",
    "\n",
    "from hhdm_analysis.xgb.controllers import XGBLearner, XGBModel\n",
    "\n",
    "ana.start()\n",
    "plt.style.use(\"default\")"
   ]
  },
  {
   "cell_type": "markdown",
   "metadata": {},
   "source": [
    "# Setup config"
   ]
  },
  {
   "cell_type": "code",
   "execution_count": 2,
   "metadata": {},
   "outputs": [],
   "source": [
    "period = 'APV_16'\n",
    "year_style = 2016\n",
    "dataset_year = \"APV_2016\"\n",
    "basedir = '/home/gamoreir/SanDisk/physics/hhdmAnalysis_deepJet_Regions/datasets'\n",
    "dataset_name = basedir.split('/')[-2]\n",
    "\n",
    "# Data folder\n",
    "data_path = f\"./data/{dataset_name}/{dataset_year}\"\n",
    "\n",
    "# Setup output folders\n",
    "models_path = f\"./models/{dataset_name}/{dataset_year}\"\n",
    "Path(models_path).mkdir(parents=True, exist_ok=True)"
   ]
  },
  {
   "cell_type": "markdown",
   "metadata": {},
   "source": [
    "# Read data"
   ]
  },
  {
   "cell_type": "code",
   "execution_count": 3,
   "metadata": {},
   "outputs": [],
   "source": [
    "model_name = \"XGB_multi_signal\"\n",
    "\n",
    "X_train = pd.read_csv(f\"{data_path}/{model_name}-train-data.csv\")\n",
    "X_test = pd.read_csv(f\"{data_path}/{model_name}-test-data.csv\")\n",
    "W_train = X_train.pop(\"modelWeight\").values\n",
    "W_test = X_test.pop(\"modelWeight\").values\n",
    "Y_train = X_train.pop(\"Label\").values\n",
    "Y_test = X_test.pop(\"Label\").values\n",
    "evtWeight_train = X_train.pop(\"evtWeight\").values\n",
    "evtWeight_test = X_test.pop(\"evtWeight\").values"
   ]
  },
  {
   "cell_type": "code",
   "execution_count": 4,
   "metadata": {},
   "outputs": [
    {
     "data": {
      "text/html": [
       "<div>\n",
       "<style scoped>\n",
       "    .dataframe tbody tr th:only-of-type {\n",
       "        vertical-align: middle;\n",
       "    }\n",
       "\n",
       "    .dataframe tbody tr th {\n",
       "        vertical-align: top;\n",
       "    }\n",
       "\n",
       "    .dataframe thead th {\n",
       "        text-align: right;\n",
       "    }\n",
       "</style>\n",
       "<table border=\"1\" class=\"dataframe\">\n",
       "  <thead>\n",
       "    <tr style=\"text-align: right;\">\n",
       "      <th></th>\n",
       "      <th>LeadingLep_pt</th>\n",
       "      <th>LepLep_deltaM</th>\n",
       "      <th>LepLep_deltaR</th>\n",
       "      <th>LepLep_pt</th>\n",
       "      <th>MET_LepLep_Mt</th>\n",
       "      <th>MET_LepLep_deltaPhi</th>\n",
       "      <th>MET_pt</th>\n",
       "      <th>MT2LL</th>\n",
       "      <th>Nbjets</th>\n",
       "      <th>TrailingLep_pt</th>\n",
       "    </tr>\n",
       "  </thead>\n",
       "  <tbody>\n",
       "    <tr>\n",
       "      <th>0</th>\n",
       "      <td>67.43445</td>\n",
       "      <td>0.406410</td>\n",
       "      <td>1.489798</td>\n",
       "      <td>99.975555</td>\n",
       "      <td>181.92041</td>\n",
       "      <td>3.033582</td>\n",
       "      <td>82.999660</td>\n",
       "      <td>90.96022</td>\n",
       "      <td>1</td>\n",
       "      <td>63.790764</td>\n",
       "    </tr>\n",
       "    <tr>\n",
       "      <th>1</th>\n",
       "      <td>293.91672</td>\n",
       "      <td>0.598915</td>\n",
       "      <td>0.393085</td>\n",
       "      <td>470.745450</td>\n",
       "      <td>268.21515</td>\n",
       "      <td>1.800546</td>\n",
       "      <td>62.236650</td>\n",
       "      <td>126.52729</td>\n",
       "      <td>1</td>\n",
       "      <td>180.172740</td>\n",
       "    </tr>\n",
       "    <tr>\n",
       "      <th>2</th>\n",
       "      <td>100.05968</td>\n",
       "      <td>1.220863</td>\n",
       "      <td>0.965787</td>\n",
       "      <td>184.397000</td>\n",
       "      <td>118.42452</td>\n",
       "      <td>1.118869</td>\n",
       "      <td>67.508720</td>\n",
       "      <td>57.55273</td>\n",
       "      <td>2</td>\n",
       "      <td>85.247760</td>\n",
       "    </tr>\n",
       "    <tr>\n",
       "      <th>3</th>\n",
       "      <td>188.21326</td>\n",
       "      <td>1.586067</td>\n",
       "      <td>0.688611</td>\n",
       "      <td>267.782350</td>\n",
       "      <td>102.35561</td>\n",
       "      <td>0.827248</td>\n",
       "      <td>60.545155</td>\n",
       "      <td>26.82146</td>\n",
       "      <td>1</td>\n",
       "      <td>93.016450</td>\n",
       "    </tr>\n",
       "    <tr>\n",
       "      <th>4</th>\n",
       "      <td>229.02917</td>\n",
       "      <td>0.291946</td>\n",
       "      <td>0.444957</td>\n",
       "      <td>410.392970</td>\n",
       "      <td>600.29400</td>\n",
       "      <td>2.569872</td>\n",
       "      <td>238.479490</td>\n",
       "      <td>297.66135</td>\n",
       "      <td>1</td>\n",
       "      <td>181.793010</td>\n",
       "    </tr>\n",
       "  </tbody>\n",
       "</table>\n",
       "</div>"
      ],
      "text/plain": [
       "   LeadingLep_pt  LepLep_deltaM  LepLep_deltaR   LepLep_pt  MET_LepLep_Mt  MET_LepLep_deltaPhi      MET_pt      MT2LL  Nbjets  TrailingLep_pt\n",
       "0       67.43445       0.406410       1.489798   99.975555      181.92041             3.033582   82.999660   90.96022       1       63.790764\n",
       "1      293.91672       0.598915       0.393085  470.745450      268.21515             1.800546   62.236650  126.52729       1      180.172740\n",
       "2      100.05968       1.220863       0.965787  184.397000      118.42452             1.118869   67.508720   57.55273       2       85.247760\n",
       "3      188.21326       1.586067       0.688611  267.782350      102.35561             0.827248   60.545155   26.82146       1       93.016450\n",
       "4      229.02917       0.291946       0.444957  410.392970      600.29400             2.569872  238.479490  297.66135       1      181.793010"
      ]
     },
     "execution_count": 4,
     "metadata": {},
     "output_type": "execute_result"
    }
   ],
   "source": [
    "X_train.head()"
   ]
  },
  {
   "cell_type": "code",
   "execution_count": 5,
   "metadata": {},
   "outputs": [
    {
     "data": {
      "text/plain": [
       "array([0.8191494 , 0.13844149, 0.8200503 , ..., 0.08255574, 1.80496039,\n",
       "       0.00693738])"
      ]
     },
     "execution_count": 5,
     "metadata": {},
     "output_type": "execute_result"
    }
   ],
   "source": [
    "W_train"
   ]
  },
  {
   "cell_type": "code",
   "execution_count": 6,
   "metadata": {},
   "outputs": [
    {
     "data": {
      "text/plain": [
       "array([0, 0, 0, ..., 0, 0, 0])"
      ]
     },
     "execution_count": 6,
     "metadata": {},
     "output_type": "execute_result"
    }
   ],
   "source": [
    "Y_train"
   ]
  },
  {
   "cell_type": "markdown",
   "metadata": {},
   "source": [
    "# Train"
   ]
  },
  {
   "cell_type": "code",
   "execution_count": 7,
   "metadata": {},
   "outputs": [],
   "source": [
    "params = {\n",
    "    \"n_estimators\": 500,\n",
    "    \"min_child_weight\": 4,\n",
    "    \"learning_rate\": 0.01,\n",
    "    \"subsample\": 0.60,\n",
    "    \"colsample_bytree\": 0.80,\n",
    "    \"max_depth\": 5,\n",
    "    \"eval_metric\": \"error\"\n",
    "}\n",
    "\n",
    "# Or read from json\n",
    "# params = json.load(open(f\"{models_path}/{signal_name}-bst-params.json\"))\n",
    "\n",
    "num_boost_round = params.pop('n_estimators')\n",
    "features = [\"LeadingLep_pt\", \"LepLep_pt\", \"LepLep_deltaR\", \"LepLep_deltaM\", \"MET_pt\", \"MET_LepLep_Mt\", \"MET_LepLep_deltaPhi\", \"TrailingLep_pt\", \"MT2LL\", \"Nbjets\"]\n",
    "\n",
    "learner = XGBLearner(X_train, Y_train, W_train, features)\n",
    "learner.train(params, num_boost_round)\n",
    "learner.save_model(f\"{models_path}/{model_name}-clf.model\")\n",
    "learner.dump_model(f\"{models_path}/{model_name}-raw.model\")"
   ]
  },
  {
   "cell_type": "markdown",
   "metadata": {},
   "source": [
    "# Notify end of notebook"
   ]
  },
  {
   "cell_type": "code",
   "execution_count": 8,
   "metadata": {},
   "outputs": [
    {
     "data": {
      "application/javascript": [
       "\n",
       "  var msg = new SpeechSynthesisUtterance();\n",
       "  msg.text = \"Process completed!\";\n",
       "  window.speechSynthesis.speak(msg);\n",
       "  alert(\"Process completed!\")\n"
      ],
      "text/plain": [
       "<IPython.core.display.Javascript object>"
      ]
     },
     "metadata": {},
     "output_type": "display_data"
    }
   ],
   "source": [
    "from IPython.display import clear_output, display, HTML, Javascript\n",
    "\n",
    "display(Javascript(\"\"\"\n",
    "  var msg = new SpeechSynthesisUtterance();\n",
    "  msg.text = \"Process completed!\";\n",
    "  window.speechSynthesis.speak(msg);\n",
    "  alert(\"Process completed!\")\n",
    "\"\"\"))"
   ]
  },
  {
   "cell_type": "code",
   "execution_count": null,
   "metadata": {},
   "outputs": [],
   "source": []
  }
 ],
 "metadata": {
  "kernelspec": {
   "display_name": "Python 3 (ipykernel)",
   "language": "python",
   "name": "python3"
  },
  "language_info": {
   "codemirror_mode": {
    "name": "ipython",
    "version": 3
   },
   "file_extension": ".py",
   "mimetype": "text/x-python",
   "name": "python",
   "nbconvert_exporter": "python",
   "pygments_lexer": "ipython3",
   "version": "3.8.12"
  },
  "vscode": {
   "interpreter": {
    "hash": "b2506951dc893118884e76a5b30b10013d3fb3ee7201be2b9c770a606eefaec1"
   }
  }
 },
 "nbformat": 4,
 "nbformat_minor": 4
}
