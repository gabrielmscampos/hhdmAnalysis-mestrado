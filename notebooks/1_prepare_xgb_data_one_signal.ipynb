{
 "cells": [
  {
   "cell_type": "code",
   "execution_count": 1,
   "metadata": {},
   "outputs": [],
   "source": [
    "import json\n",
    "from pathlib import Path\n",
    "\n",
    "import numpy as np\n",
    "import pandas as pd\n",
    "import matplotlib.pyplot as plt\n",
    "import anatools.data as data\n",
    "import anatools.analysis as ana\n",
    "from sklearn.model_selection import train_test_split\n",
    "\n",
    "from hhdm_analysis.xgb.controllers import XGBLearner, XGBModel\n",
    "\n",
    "ana.start()\n",
    "plt.style.use(\"default\")"
   ]
  },
  {
   "cell_type": "markdown",
   "metadata": {},
   "source": [
    "# Setup config"
   ]
  },
  {
   "cell_type": "code",
   "execution_count": 2,
   "metadata": {},
   "outputs": [],
   "source": [
    "period = '18'\n",
    "year_style = 2018\n",
    "dataset_year = \"2018\"\n",
    "basedir = '/home/gamoreir/SanDisk/physics/hhdmAnalysis/datasets'\n",
    "dataset_name = basedir.split('/')[-2]\n",
    "\n",
    "# Setup output folders\n",
    "data_path = f\"./data/{dataset_name}/{dataset_year}\"\n",
    "Path(data_path).mkdir(parents=True, exist_ok=True)"
   ]
  },
  {
   "cell_type": "markdown",
   "metadata": {},
   "source": [
    "# Read metadata"
   ]
  },
  {
   "cell_type": "code",
   "execution_count": 3,
   "metadata": {},
   "outputs": [],
   "source": [
    "with open(\"../metadata.json\", \"r\") as f:\n",
    "    metadata = json.load(f)\n",
    "\n",
    "ST = metadata.get(\"datasets\").get(\"ST\")\n",
    "TT = metadata.get(\"datasets\").get(\"TT\")\n",
    "ZZ = metadata.get(\"datasets\").get(\"ZZ\")\n",
    "WZ = metadata.get(\"datasets\").get(\"WZ\")\n",
    "DY = metadata.get(\"datasets\").get(\"DY\")\n",
    "RESIDUAL = metadata.get(\"datasets\").get(\"RESIDUAL\")\n",
    "DATA = metadata.get(\"datasets\").get(\"DATA\")"
   ]
  },
  {
   "cell_type": "markdown",
   "metadata": {},
   "source": [
    "# Read data"
   ]
  },
  {
   "cell_type": "code",
   "execution_count": 4,
   "metadata": {},
   "outputs": [
    {
     "name": "stdout",
     "output_type": "stream",
     "text": [
      "\n",
      "Loading datasets...\n"
     ]
    },
    {
     "name": "stderr",
     "output_type": "stream",
     "text": [
      "100%|███████████████████████████████████████████████████████████████████████████████████| 76/76 [00:05<00:00, 14.19it/s]\n"
     ]
    },
    {
     "name": "stdout",
     "output_type": "stream",
     "text": [
      "Signal_400_100 (170831, 12)\n",
      "Signal_1000_100 (233290, 12)\n",
      "ST (67082, 12)\n",
      "TT (1924246, 12)\n",
      "ZZ (3514699, 12)\n",
      "WZ (33700, 12)\n",
      "DYJetsToLL (6975315, 12)\n",
      "Residual (1536837, 12)\n",
      "Data (825992, 12)\n"
     ]
    }
   ],
   "source": [
    "variables = [\"RegionID\", \"evtWeight\", \"LeadingLep_pt\", \"LepLep_pt\", \"LepLep_deltaR\", \"LepLep_deltaM\", \"MET_pt\", \"MET_LepLep_Mt\", \"MET_LepLep_deltaPhi\", \"TrailingLep_pt\", \"MT2LL\", \"Nbjets\"]\n",
    "ds = data.read_files(basedir, period, mode=\"normal\", features=variables)\n",
    "\n",
    "data.join_datasets(ds, \"ST\", ST.get(period), mode=\"normal\")\n",
    "data.join_datasets(ds, \"TT\", TT.get(period), mode=\"normal\")\n",
    "data.join_datasets(ds, \"ZZ\", ZZ.get(period), mode=\"normal\")\n",
    "data.join_datasets(ds, \"WZ\", WZ.get(period), mode=\"normal\")\n",
    "data.join_datasets(ds, \"DYJetsToLL\", DY.get(period), mode=\"normal\")\n",
    "data.join_datasets(ds, \"Residual\", RESIDUAL.get(period), mode=\"normal\")\n",
    "data.join_datasets(ds, \"Data\", DATA.get(period), mode=\"normal\")\n",
    "\n",
    "print(\"Signal_400_100\", ds[\"Signal_400_100\"].shape)\n",
    "print(\"Signal_1000_100\", ds[\"Signal_1000_100\"].shape)\n",
    "print(\"ST\", ds[\"ST\"].shape)\n",
    "print(\"TT\", ds[\"TT\"].shape)\n",
    "print(\"ZZ\", ds[\"ZZ\"].shape)\n",
    "print(\"WZ\", ds[\"WZ\"].shape)\n",
    "print(\"DYJetsToLL\", ds[\"DYJetsToLL\"].shape)\n",
    "print(\"Residual\", ds[\"Residual\"].shape)\n",
    "print(\"Data\", ds[\"Data\"].shape)\n",
    "\n",
    "del ds[\"Data\"]"
   ]
  },
  {
   "cell_type": "markdown",
   "metadata": {},
   "source": [
    "# Pre-process datasets\n",
    "\n",
    "* Filter Signal Region\n",
    "* XGBoost do not handle negative instance weights (so we remove then)\n",
    "* Label Background as 0 and Signal as 1\n",
    "* Weights are normalized (after splitting into train and test) in order to give the same importance for Signal and Background while minimizing the loss function."
   ]
  },
  {
   "cell_type": "code",
   "execution_count": 13,
   "metadata": {},
   "outputs": [
    {
     "name": "stderr",
     "output_type": "stream",
     "text": [
      "/mnt/wsl/PHYSICALDRIVE2/Physics/masters_research/workspace/hhdmAnalysis/.venv/lib/python3.8/site-packages/pandas/core/indexing.py:1597: SettingWithCopyWarning: \n",
      "A value is trying to be set on a copy of a slice from a DataFrame.\n",
      "Try using .loc[row_indexer,col_indexer] = value instead\n",
      "\n",
      "See the caveats in the documentation: https://pandas.pydata.org/pandas-docs/stable/user_guide/indexing.html#returning-a-view-versus-a-copy\n",
      "  self.obj[key] = value\n",
      "/mnt/wsl/PHYSICALDRIVE2/Physics/masters_research/workspace/hhdmAnalysis/.venv/lib/python3.8/site-packages/pandas/core/indexing.py:1720: SettingWithCopyWarning: \n",
      "A value is trying to be set on a copy of a slice from a DataFrame.\n",
      "Try using .loc[row_indexer,col_indexer] = value instead\n",
      "\n",
      "See the caveats in the documentation: https://pandas.pydata.org/pandas-docs/stable/user_guide/indexing.html#returning-a-view-versus-a-copy\n",
      "  self._setitem_single_column(loc, value, pi)\n"
     ]
    }
   ],
   "source": [
    "# Used for scaling the weights (this helps xgboost)\n",
    "scale_factor = 10**6\n",
    "\n",
    "# Filtering SR\n",
    "ds = {k: v[v.RegionID == 0] for k,v in ds.items()}\n",
    "\n",
    "# Selecting backgrounds and signals\n",
    "model_name = \"XGB_Signal_400_100\"\n",
    "signal_name = \"Signal_400_100\"\n",
    "signal = ds[signal_name]\n",
    "backgrounds = [ds[\"ST\"], ds[\"TT\"], ds[\"ZZ\"], ds[\"WZ\"], ds[\"DYJetsToLL\"], ds[\"Residual\"]]\n",
    "\n",
    "# Remove negative values\n",
    "backgrounds = [bkg[bkg.evtWeight >= 0] for bkg in backgrounds]\n",
    "signal = signal[signal.evtWeight >= 0]\n",
    "\n",
    "# Labeling\n",
    "signal.loc[:, \"Label\"] = 1\n",
    "for bkg in backgrounds:\n",
    "    bkg.loc[:, \"Label\"] = 0\n",
    "\n",
    "# Spliting\n",
    "backgrounds = [train_test_split(bkg, test_size=0.3, random_state=42) for bkg in backgrounds]\n",
    "X_train_signal, X_test_signal = train_test_split(signal, test_size=0.3, random_state=42)\n",
    "\n",
    "# Group backgrounds\n",
    "X_train_bkgs = pd.concat([X_train_bkg for X_train_bkg, _ in backgrounds])\n",
    "X_test_bkgs = pd.concat([X_test_bkg for _, X_test_bkg in backgrounds])\n",
    "\n",
    "# Normalize background weights\n",
    "X_train_bkgs[\"modelWeight\"] = scale_factor*(X_train_bkgs.evtWeight/X_train_bkgs.evtWeight.sum())\n",
    "X_test_bkgs[\"modelWeight\"] = scale_factor*(X_test_bkgs.evtWeight/X_test_bkgs.evtWeight.sum())\n",
    "\n",
    "# Normalize signal weights\n",
    "X_train_signal[\"modelWeight\"] = scale_factor*(X_train_signal.evtWeight/X_train_signal.evtWeight.sum())\n",
    "X_test_signal[\"modelWeight\"] = scale_factor*(X_test_signal.evtWeight/X_test_signal.evtWeight.sum())"
   ]
  },
  {
   "cell_type": "markdown",
   "metadata": {},
   "source": [
    "# Group signal and background"
   ]
  },
  {
   "cell_type": "code",
   "execution_count": 14,
   "metadata": {},
   "outputs": [],
   "source": [
    "# Group signal and background\n",
    "X_train = pd.concat([X_train_signal, X_train_bkgs]).reset_index(drop=True)\n",
    "X_test = pd.concat([X_test_signal, X_test_bkgs]).reset_index(drop=True)\n",
    "\n",
    "# Normalize weights\n",
    "X_train[\"modelWeight\"] = scale_factor*(X_train.modelWeight/X_train.modelWeight.sum())\n",
    "X_test[\"modelWeight\"] = scale_factor*(X_test.modelWeight/X_test.modelWeight.sum())\n",
    "\n",
    "# Shuffle\n",
    "X_train = X_train.sample(frac=1).reset_index(drop=True)\n",
    "X_test = X_test.sample(frac=1).reset_index(drop=True)"
   ]
  },
  {
   "cell_type": "code",
   "execution_count": 15,
   "metadata": {},
   "outputs": [
    {
     "name": "stdout",
     "output_type": "stream",
     "text": [
      "(2457371, 14)\n"
     ]
    },
    {
     "data": {
      "text/html": [
       "<div>\n",
       "<style scoped>\n",
       "    .dataframe tbody tr th:only-of-type {\n",
       "        vertical-align: middle;\n",
       "    }\n",
       "\n",
       "    .dataframe tbody tr th {\n",
       "        vertical-align: top;\n",
       "    }\n",
       "\n",
       "    .dataframe thead th {\n",
       "        text-align: right;\n",
       "    }\n",
       "</style>\n",
       "<table border=\"1\" class=\"dataframe\">\n",
       "  <thead>\n",
       "    <tr style=\"text-align: right;\">\n",
       "      <th></th>\n",
       "      <th>LeadingLep_pt</th>\n",
       "      <th>LepLep_deltaM</th>\n",
       "      <th>LepLep_deltaR</th>\n",
       "      <th>LepLep_pt</th>\n",
       "      <th>MET_LepLep_Mt</th>\n",
       "      <th>MET_LepLep_deltaPhi</th>\n",
       "      <th>MET_pt</th>\n",
       "      <th>MT2LL</th>\n",
       "      <th>Nbjets</th>\n",
       "      <th>RegionID</th>\n",
       "      <th>TrailingLep_pt</th>\n",
       "      <th>evtWeight</th>\n",
       "      <th>Label</th>\n",
       "      <th>modelWeight</th>\n",
       "    </tr>\n",
       "  </thead>\n",
       "  <tbody>\n",
       "    <tr>\n",
       "      <th>0</th>\n",
       "      <td>118.219742</td>\n",
       "      <td>16.727974</td>\n",
       "      <td>1.865665</td>\n",
       "      <td>115.298645</td>\n",
       "      <td>309.480621</td>\n",
       "      <td>2.773204</td>\n",
       "      <td>214.882675</td>\n",
       "      <td>121.749962</td>\n",
       "      <td>1</td>\n",
       "      <td>0</td>\n",
       "      <td>36.648872</td>\n",
       "      <td>0.005811</td>\n",
       "      <td>1</td>\n",
       "      <td>10.225851</td>\n",
       "    </tr>\n",
       "    <tr>\n",
       "      <th>1</th>\n",
       "      <td>86.122032</td>\n",
       "      <td>10.482124</td>\n",
       "      <td>1.407866</td>\n",
       "      <td>130.248779</td>\n",
       "      <td>199.108810</td>\n",
       "      <td>3.028722</td>\n",
       "      <td>76.336334</td>\n",
       "      <td>96.877045</td>\n",
       "      <td>1</td>\n",
       "      <td>0</td>\n",
       "      <td>59.314102</td>\n",
       "      <td>0.026212</td>\n",
       "      <td>0</td>\n",
       "      <td>0.062488</td>\n",
       "    </tr>\n",
       "    <tr>\n",
       "      <th>2</th>\n",
       "      <td>117.953575</td>\n",
       "      <td>10.438660</td>\n",
       "      <td>1.476635</td>\n",
       "      <td>125.647324</td>\n",
       "      <td>337.633087</td>\n",
       "      <td>2.953659</td>\n",
       "      <td>228.832214</td>\n",
       "      <td>125.939247</td>\n",
       "      <td>1</td>\n",
       "      <td>0</td>\n",
       "      <td>29.772533</td>\n",
       "      <td>0.005303</td>\n",
       "      <td>1</td>\n",
       "      <td>9.332020</td>\n",
       "    </tr>\n",
       "    <tr>\n",
       "      <th>3</th>\n",
       "      <td>93.209534</td>\n",
       "      <td>0.568504</td>\n",
       "      <td>2.360109</td>\n",
       "      <td>76.788666</td>\n",
       "      <td>138.952026</td>\n",
       "      <td>2.037838</td>\n",
       "      <td>86.688362</td>\n",
       "      <td>54.293190</td>\n",
       "      <td>1</td>\n",
       "      <td>0</td>\n",
       "      <td>26.384375</td>\n",
       "      <td>0.001638</td>\n",
       "      <td>0</td>\n",
       "      <td>0.003906</td>\n",
       "    </tr>\n",
       "    <tr>\n",
       "      <th>4</th>\n",
       "      <td>43.329895</td>\n",
       "      <td>20.864021</td>\n",
       "      <td>2.234646</td>\n",
       "      <td>45.388794</td>\n",
       "      <td>138.749039</td>\n",
       "      <td>1.847677</td>\n",
       "      <td>166.544891</td>\n",
       "      <td>68.943497</td>\n",
       "      <td>1</td>\n",
       "      <td>0</td>\n",
       "      <td>25.141319</td>\n",
       "      <td>0.029824</td>\n",
       "      <td>0</td>\n",
       "      <td>0.071098</td>\n",
       "    </tr>\n",
       "  </tbody>\n",
       "</table>\n",
       "</div>"
      ],
      "text/plain": [
       "   LeadingLep_pt  LepLep_deltaM  LepLep_deltaR   LepLep_pt  MET_LepLep_Mt  MET_LepLep_deltaPhi      MET_pt       MT2LL  Nbjets  RegionID  TrailingLep_pt  evtWeight  Label  modelWeight\n",
       "0     118.219742      16.727974       1.865665  115.298645     309.480621             2.773204  214.882675  121.749962       1         0       36.648872   0.005811      1    10.225851\n",
       "1      86.122032      10.482124       1.407866  130.248779     199.108810             3.028722   76.336334   96.877045       1         0       59.314102   0.026212      0     0.062488\n",
       "2     117.953575      10.438660       1.476635  125.647324     337.633087             2.953659  228.832214  125.939247       1         0       29.772533   0.005303      1     9.332020\n",
       "3      93.209534       0.568504       2.360109   76.788666     138.952026             2.037838   86.688362   54.293190       1         0       26.384375   0.001638      0     0.003906\n",
       "4      43.329895      20.864021       2.234646   45.388794     138.749039             1.847677  166.544891   68.943497       1         0       25.141319   0.029824      0     0.071098"
      ]
     },
     "execution_count": 15,
     "metadata": {},
     "output_type": "execute_result"
    }
   ],
   "source": [
    "print(X_train.shape)\n",
    "X_train.head()"
   ]
  },
  {
   "cell_type": "code",
   "execution_count": 16,
   "metadata": {},
   "outputs": [
    {
     "name": "stdout",
     "output_type": "stream",
     "text": [
      "(1053165, 14)\n"
     ]
    },
    {
     "data": {
      "text/html": [
       "<div>\n",
       "<style scoped>\n",
       "    .dataframe tbody tr th:only-of-type {\n",
       "        vertical-align: middle;\n",
       "    }\n",
       "\n",
       "    .dataframe tbody tr th {\n",
       "        vertical-align: top;\n",
       "    }\n",
       "\n",
       "    .dataframe thead th {\n",
       "        text-align: right;\n",
       "    }\n",
       "</style>\n",
       "<table border=\"1\" class=\"dataframe\">\n",
       "  <thead>\n",
       "    <tr style=\"text-align: right;\">\n",
       "      <th></th>\n",
       "      <th>LeadingLep_pt</th>\n",
       "      <th>LepLep_deltaM</th>\n",
       "      <th>LepLep_deltaR</th>\n",
       "      <th>LepLep_pt</th>\n",
       "      <th>MET_LepLep_Mt</th>\n",
       "      <th>MET_LepLep_deltaPhi</th>\n",
       "      <th>MET_pt</th>\n",
       "      <th>MT2LL</th>\n",
       "      <th>Nbjets</th>\n",
       "      <th>RegionID</th>\n",
       "      <th>TrailingLep_pt</th>\n",
       "      <th>evtWeight</th>\n",
       "      <th>Label</th>\n",
       "      <th>modelWeight</th>\n",
       "    </tr>\n",
       "  </thead>\n",
       "  <tbody>\n",
       "    <tr>\n",
       "      <th>0</th>\n",
       "      <td>93.097275</td>\n",
       "      <td>0.027267</td>\n",
       "      <td>1.374939</td>\n",
       "      <td>120.120110</td>\n",
       "      <td>101.016167</td>\n",
       "      <td>1.353405</td>\n",
       "      <td>54.155746</td>\n",
       "      <td>48.357220</td>\n",
       "      <td>1</td>\n",
       "      <td>0</td>\n",
       "      <td>52.501560</td>\n",
       "      <td>0.227285</td>\n",
       "      <td>0</td>\n",
       "      <td>1.267609</td>\n",
       "    </tr>\n",
       "    <tr>\n",
       "      <th>1</th>\n",
       "      <td>102.865639</td>\n",
       "      <td>1.667076</td>\n",
       "      <td>2.062619</td>\n",
       "      <td>105.710144</td>\n",
       "      <td>175.437637</td>\n",
       "      <td>2.677288</td>\n",
       "      <td>76.857880</td>\n",
       "      <td>62.279606</td>\n",
       "      <td>1</td>\n",
       "      <td>0</td>\n",
       "      <td>20.111681</td>\n",
       "      <td>0.157309</td>\n",
       "      <td>0</td>\n",
       "      <td>0.877338</td>\n",
       "    </tr>\n",
       "    <tr>\n",
       "      <th>2</th>\n",
       "      <td>83.709175</td>\n",
       "      <td>22.379219</td>\n",
       "      <td>1.601908</td>\n",
       "      <td>95.557968</td>\n",
       "      <td>198.641464</td>\n",
       "      <td>2.438401</td>\n",
       "      <td>117.123535</td>\n",
       "      <td>64.633224</td>\n",
       "      <td>1</td>\n",
       "      <td>0</td>\n",
       "      <td>21.648035</td>\n",
       "      <td>0.034425</td>\n",
       "      <td>0</td>\n",
       "      <td>0.191993</td>\n",
       "    </tr>\n",
       "    <tr>\n",
       "      <th>3</th>\n",
       "      <td>114.047249</td>\n",
       "      <td>8.643394</td>\n",
       "      <td>1.090710</td>\n",
       "      <td>167.813721</td>\n",
       "      <td>306.843719</td>\n",
       "      <td>2.660169</td>\n",
       "      <td>148.716064</td>\n",
       "      <td>145.504089</td>\n",
       "      <td>2</td>\n",
       "      <td>0</td>\n",
       "      <td>81.158340</td>\n",
       "      <td>0.001708</td>\n",
       "      <td>0</td>\n",
       "      <td>0.009526</td>\n",
       "    </tr>\n",
       "    <tr>\n",
       "      <th>4</th>\n",
       "      <td>218.087784</td>\n",
       "      <td>23.888603</td>\n",
       "      <td>0.384864</td>\n",
       "      <td>353.988007</td>\n",
       "      <td>177.581558</td>\n",
       "      <td>0.965898</td>\n",
       "      <td>103.270355</td>\n",
       "      <td>75.844833</td>\n",
       "      <td>1</td>\n",
       "      <td>0</td>\n",
       "      <td>141.593185</td>\n",
       "      <td>0.023674</td>\n",
       "      <td>0</td>\n",
       "      <td>0.132033</td>\n",
       "    </tr>\n",
       "  </tbody>\n",
       "</table>\n",
       "</div>"
      ],
      "text/plain": [
       "   LeadingLep_pt  LepLep_deltaM  LepLep_deltaR   LepLep_pt  MET_LepLep_Mt  MET_LepLep_deltaPhi      MET_pt       MT2LL  Nbjets  RegionID  TrailingLep_pt  evtWeight  Label  modelWeight\n",
       "0      93.097275       0.027267       1.374939  120.120110     101.016167             1.353405   54.155746   48.357220       1         0       52.501560   0.227285      0     1.267609\n",
       "1     102.865639       1.667076       2.062619  105.710144     175.437637             2.677288   76.857880   62.279606       1         0       20.111681   0.157309      0     0.877338\n",
       "2      83.709175      22.379219       1.601908   95.557968     198.641464             2.438401  117.123535   64.633224       1         0       21.648035   0.034425      0     0.191993\n",
       "3     114.047249       8.643394       1.090710  167.813721     306.843719             2.660169  148.716064  145.504089       2         0       81.158340   0.001708      0     0.009526\n",
       "4     218.087784      23.888603       0.384864  353.988007     177.581558             0.965898  103.270355   75.844833       1         0      141.593185   0.023674      0     0.132033"
      ]
     },
     "execution_count": 16,
     "metadata": {},
     "output_type": "execute_result"
    }
   ],
   "source": [
    "print(X_test.shape)\n",
    "X_test.head()"
   ]
  },
  {
   "cell_type": "markdown",
   "metadata": {},
   "source": [
    "# Save processed data"
   ]
  },
  {
   "cell_type": "code",
   "execution_count": 17,
   "metadata": {},
   "outputs": [],
   "source": [
    "# Pop unused variables at this point\n",
    "X_train.pop(\"RegionID\")\n",
    "X_test.pop(\"RegionID\")\n",
    "# X_train.pop(\"evtWeight\")\n",
    "# X_test.pop(\"evtWeight\")\n",
    "\n",
    "X_train.to_csv(f\"{data_path}/{model_name}-train-data.csv\", index=False)\n",
    "X_test.to_csv(f\"{data_path}/{model_name}-test-data.csv\", index=False)"
   ]
  }
 ],
 "metadata": {
  "kernelspec": {
   "display_name": "Python 3 (ipykernel)",
   "language": "python",
   "name": "python3"
  },
  "language_info": {
   "codemirror_mode": {
    "name": "ipython",
    "version": 3
   },
   "file_extension": ".py",
   "mimetype": "text/x-python",
   "name": "python",
   "nbconvert_exporter": "python",
   "pygments_lexer": "ipython3",
   "version": "3.8.12"
  },
  "vscode": {
   "interpreter": {
    "hash": "b2506951dc893118884e76a5b30b10013d3fb3ee7201be2b9c770a606eefaec1"
   }
  }
 },
 "nbformat": 4,
 "nbformat_minor": 4
}
