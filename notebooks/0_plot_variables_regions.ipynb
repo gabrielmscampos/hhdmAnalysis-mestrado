{
 "cells": [
  {
   "cell_type": "code",
   "execution_count": 3,
   "metadata": {},
   "outputs": [],
   "source": [
    "import pprint\n",
    "import json\n",
    "from pathlib import Path\n",
    "\n",
    "from tqdm import tqdm\n",
    "import numpy as np\n",
    "import pandas as pd\n",
    "import matplotlib.pyplot as plt\n",
    "import matplotlib.gridspec as gs\n",
    "import anatools.data as data\n",
    "import anatools.analysis as ana\n",
    "\n",
    "from hhdm_analysis.utils import signal_label, stack_sorting, position, process_signals\n",
    "\n",
    "ana.start()\n",
    "plt.style.use(\"default\")"
   ]
  },
  {
   "cell_type": "markdown",
   "metadata": {},
   "source": [
    "# Setup config"
   ]
  },
  {
   "cell_type": "code",
   "execution_count": 4,
   "metadata": {},
   "outputs": [],
   "source": [
    "period = '18'\n",
    "year_style = 2018\n",
    "dataset_year = \"2018\"\n",
    "basedir = \"/home/gamoreir/SanDisk/physics/hhdmAnalysis_deepJet_Regions/datasets\"\n",
    "region_id = 0\n",
    "\n",
    "# Setup output folders\n",
    "dataset_name = basedir.split('/')[-2]\n",
    "plots_path = f\"./figures/{dataset_name}/{dataset_year}\"\n",
    "available_region_ids = [0,1,2,3,4]\n",
    "for available_region_id in available_region_ids:\n",
    "    Path(f\"{plots_path}/regionID={available_region_id}\").mkdir(parents=True, exist_ok=True)"
   ]
  },
  {
   "cell_type": "markdown",
   "metadata": {},
   "source": [
    "# Read metadata"
   ]
  },
  {
   "cell_type": "code",
   "execution_count": 5,
   "metadata": {},
   "outputs": [],
   "source": [
    "with open(\"../metadata.json\", \"r\") as f:\n",
    "    metadata = json.load(f)\n",
    "\n",
    "ST = metadata.get(\"datasets\").get(\"ST\")\n",
    "TT = metadata.get(\"datasets\").get(\"TT\")\n",
    "ZZ = metadata.get(\"datasets\").get(\"ZZ\")\n",
    "WZ = metadata.get(\"datasets\").get(\"WZ\")\n",
    "DY = metadata.get(\"datasets\").get(\"DY\")\n",
    "RESIDUAL = metadata.get(\"datasets\").get(\"RESIDUAL\")\n",
    "DATA = metadata.get(\"datasets\").get(\"DATA\")"
   ]
  },
  {
   "cell_type": "markdown",
   "metadata": {},
   "source": [
    "# Load datasets"
   ]
  },
  {
   "cell_type": "code",
   "execution_count": 6,
   "metadata": {},
   "outputs": [
    {
     "name": "stdout",
     "output_type": "stream",
     "text": [
      "\n",
      "Loading datasets...\n"
     ]
    },
    {
     "name": "stderr",
     "output_type": "stream",
     "text": [
      "100%|██████████| 73/73 [00:24<00:00,  3.00it/s]\n"
     ]
    },
    {
     "name": "stdout",
     "output_type": "stream",
     "text": [
      "Signal_400_100 (112655, 43)\n",
      "Signal_1000_100 (184662, 43)\n",
      "ST (94330, 43)\n",
      "TT (2647163, 43)\n",
      "ZZ (1924672, 43)\n",
      "WZ (24816, 43)\n",
      "DYJetsToLL (5897214, 45)\n",
      "Residual (537577, 43)\n",
      "Data (456382, 43)\n"
     ]
    }
   ],
   "source": [
    "ds = data.read_files(basedir, period, mode=\"normal\")\n",
    "\n",
    "data.join_datasets(ds, \"ST\", ST.get(period), mode=\"normal\")\n",
    "data.join_datasets(ds, \"TT\", TT.get(period), mode=\"normal\")\n",
    "data.join_datasets(ds, \"ZZ\", ZZ.get(period), mode=\"normal\")\n",
    "data.join_datasets(ds, \"WZ\", WZ.get(period), mode=\"normal\")\n",
    "data.join_datasets(ds, \"DYJetsToLL\", DY.get(period), mode=\"normal\")\n",
    "data.join_datasets(ds, \"Residual\", RESIDUAL.get(period), mode=\"normal\")\n",
    "data.join_datasets(ds, \"Data\", DATA.get(period), mode=\"normal\")\n",
    "\n",
    "print(\"Signal_400_100\", ds[\"Signal_400_100\"].shape)\n",
    "print(\"Signal_1000_100\", ds[\"Signal_1000_100\"].shape)\n",
    "print(\"ST\", ds[\"ST\"].shape)\n",
    "print(\"TT\", ds[\"TT\"].shape)\n",
    "print(\"ZZ\", ds[\"ZZ\"].shape)\n",
    "print(\"WZ\", ds[\"WZ\"].shape)\n",
    "print(\"DYJetsToLL\", ds[\"DYJetsToLL\"].shape)\n",
    "print(\"Residual\", ds[\"Residual\"].shape)\n",
    "print(\"Data\", ds[\"Data\"].shape)"
   ]
  },
  {
   "cell_type": "markdown",
   "metadata": {},
   "source": [
    "# Prepare dataset to plot"
   ]
  },
  {
   "cell_type": "code",
   "execution_count": 7,
   "metadata": {},
   "outputs": [
    {
     "name": "stdout",
     "output_type": "stream",
     "text": [
      "      Datasets  Number of events\n",
      "0  Residual SM       2565.160910\n",
      "1         $ZZ$        467.194135\n",
      "2         $WZ$        981.335215\n",
      "3   Single top       6064.535021\n",
      "4   $t\\bar{t}$      29758.911906\n",
      "5    Drell-Yan     149850.998322\n",
      "Purity: 0.7899861418308093\n"
     ]
    }
   ],
   "source": [
    "colors_list = [\"gainsboro\", \"orchid\", \"limegreen\", \"red\", \"skyblue\", \"darkgoldenrod\"]\n",
    "labels_list = [r\"Residual SM\", r\"$WZ$\", r\"$ZZ$\", \"Single top\", r\"$t\\bar{t}$\", \"Drell-Yan\"]\n",
    "bkg_list = [\"Residual\", \"WZ\", \"ZZ\", \"ST\", \"TT\", \"DYJetsToLL\"]\n",
    "ds = {k: v[v.RegionID == region_id] for k,v in ds.items()}\n",
    "dataframes, labels, colors = stack_sorting(ds, colors_list, labels_list, bkg_list)"
   ]
  },
  {
   "cell_type": "markdown",
   "metadata": {},
   "source": [
    "# Define variables to plot"
   ]
  },
  {
   "cell_type": "code",
   "execution_count": 6,
   "metadata": {},
   "outputs": [],
   "source": [
    "# Signals to use in plot\n",
    "signal_to_use = process_signals([\n",
    "    (\"Signal_400_100\", \"darkviolet\"),\n",
    "    (\"Signal_1000_100\", \"blue\")\n",
    "])\n",
    "\n",
    "# Variables to plot\n",
    "variables = [\n",
    "    ('Dijet_H_deltaPhi', r\"Dijet $\\Delta \\phi$\", 0, 6, 51, 5001),\n",
    "    ('Dijet_H_pt', r\"Dijet $H$ $p_T$ [GeV]\", 0, 1000, 51, 5001),\n",
    "    ('Dijet_M', r\"Dijet $M$ [GeV]\", 0, 1000, 51, 5001),\n",
    "    ('Dijet_deltaEta', r\"Dijet $\\Delta \\eta$\", 0, 6, 51, 5001),\n",
    "    ('Dijet_pt', r\"Dijet $p_T$ [GeV]\", 0, 1000, 51, 5001),\n",
    "    ('HT', '$H_{T}$ [GeV]', 0, 1000, 51, 5001),\n",
    "    ('Jet_abseta_max', r\"Most Forward Jet $|\\eta|$\", 0, 5, 51, 5001),\n",
    "    ('LeadingJet_eta', r\"leading jet $|\\eta|$\", -3, 3, 51, 5001),\n",
    "    ('LeadingJet_phi', r\"leading jet $\\phi$\", -4, 4, 51, 5001),\n",
    "    ('LeadingJet_pt', r\"leading jet $p_{T}$ [GeV]\", 0, 1000, 51, 5001),\n",
    "    ('LeadingLep_eta', r\"leading lepton $|\\eta|$\", 0, 3, 51, 5001),\n",
    "    ('LeadingLep_pt', r\"leading lepton $p_{T}$ [GeV]\", 0, 1000, 51, 5001),\n",
    "    ('LepLep_deltaM', r\"$|M_{\\ell \\ell} - M_{Z}|$ [GeV]\", 0, 30, 21, 5001),\n",
    "    ('LepLep_deltaR', r\"$\\Delta R^{\\ell \\ell}$\", 0, 4, 51, 5001),\n",
    "    ('LepLep_eta', r\"$|\\eta|^{\\ell \\ell}$\", 0, 5, 51, 5001),\n",
    "    ('LepLep_mass', r\"$M^{\\ell \\ell}$ [GeV]\", 50, 130, 51, 5001),\n",
    "    (\"LepLep_phi\", r\"$\\phi^{\\ell \\ell}$\", -4, 4, 51, 5001),\n",
    "    ('LepLep_pt', r\"$p_{T}^{\\ell \\ell}$ [GeV]\", 0, 1000, 51, 5001),\n",
    "    ('MET_LepLep_Mt', r\"$M^{\\ell \\ell, MET}_{T}$ [GeV]\", 0, 1000, 51, 5001),\n",
    "    (\"MET_LepLep_deltaPhi\", r\"$\\Delta \\phi^{\\ell \\ell+MET}$\", 0, 6, 51, 5001),\n",
    "    ('MET_LepLep_deltaPt', r\"$\\Delta p^{\\ell \\ell, MET}_{T}$ [GeV]\", 0, 30, 51, 5001),\n",
    "    (\"MET_phi\", \"MET $\\phi$\", -4, 4, 51, 5001),\n",
    "    ('MET_pt',  r\"MET $p_{T}$ [GeV]\", 0, 1000, 51, 5001),\n",
    "    ('MHT', '$M$ $H_{T}$ [GeV]', 0, 1000, 51, 5001),\n",
    "    (\"MT2LL\", \"MT2LL\", 0, 700, 51, 5001),\n",
    "    (\"Nbjets\", \"Number of b-jets\", 0, 10, 11, 5001),\n",
    "    (\"Njets\", \"Number of jets\", 0, 10, 11, 5001),\n",
    "    ('Njets_forward', 'Number of forward jets', 0, 10, 11, 5001),\n",
    "    ('Njets_tight', 'Number of tight jets', 0, 10, 11, 5001),\n",
    "    ('SubLeadingJet_eta', r\"subleading jet $|\\eta|$\", -3, 3, 51, 5001),\n",
    "    ('SubLeadingJet_phi', r\"subleading jet $\\phi$\", -4, 4, 51, 5001),\n",
    "    ('SubLeadingJet_pt', r\"subleading jet $p_{T}$ [GeV]\", 0, 1000, 51, 5001),\n",
    "    ('TrailingLep_eta',  r\"trailing lepton $|\\eta|$\", -3, 3, 51, 5001),\n",
    "    (\"TrailingLep_pt\", r\"trailing lepton $p_{T}$ [GeV]\", 0, 700, 51, 5001)\n",
    "]"
   ]
  },
  {
   "cell_type": "markdown",
   "metadata": {},
   "source": [
    "# Plot distributions"
   ]
  },
  {
   "cell_type": "code",
   "execution_count": 7,
   "metadata": {},
   "outputs": [
    {
     "name": "stderr",
     "output_type": "stream",
     "text": [
      "  0%|          | 0/34 [00:00<?, ?it/s]/mnt/wsl/PHYSICALDRIVE2/Physics/masters_research/workspace/hhdmAnalysis/.venv/lib/python3.8/site-packages/anatools/analysis/plots.py:212: RuntimeWarning: invalid value encountered in true_divide\n",
      "  yl = (yden - errden)/yden\n",
      "/mnt/wsl/PHYSICALDRIVE2/Physics/masters_research/workspace/hhdmAnalysis/.venv/lib/python3.8/site-packages/anatools/analysis/plots.py:213: RuntimeWarning: invalid value encountered in true_divide\n",
      "  yh = (yden + errden)/yden\n",
      "No artists with labels found to put in legend.  Note that artists whose label start with an underscore are ignored when legend() is called with no argument.\n",
      "  3%|▎         | 1/34 [00:03<01:51,  3.39s/it]No artists with labels found to put in legend.  Note that artists whose label start with an underscore are ignored when legend() is called with no argument.\n",
      "  6%|▌         | 2/34 [00:05<01:22,  2.59s/it]No artists with labels found to put in legend.  Note that artists whose label start with an underscore are ignored when legend() is called with no argument.\n",
      "  9%|▉         | 3/34 [00:07<01:12,  2.32s/it]No artists with labels found to put in legend.  Note that artists whose label start with an underscore are ignored when legend() is called with no argument.\n",
      " 12%|█▏        | 4/34 [00:09<01:05,  2.18s/it]No artists with labels found to put in legend.  Note that artists whose label start with an underscore are ignored when legend() is called with no argument.\n",
      " 15%|█▍        | 5/34 [00:11<01:00,  2.08s/it]No artists with labels found to put in legend.  Note that artists whose label start with an underscore are ignored when legend() is called with no argument.\n",
      " 18%|█▊        | 6/34 [00:13<00:57,  2.07s/it]No artists with labels found to put in legend.  Note that artists whose label start with an underscore are ignored when legend() is called with no argument.\n",
      " 21%|██        | 7/34 [00:15<00:54,  2.02s/it]No artists with labels found to put in legend.  Note that artists whose label start with an underscore are ignored when legend() is called with no argument.\n",
      " 24%|██▎       | 8/34 [00:17<00:53,  2.06s/it]No artists with labels found to put in legend.  Note that artists whose label start with an underscore are ignored when legend() is called with no argument.\n",
      " 26%|██▋       | 9/34 [00:19<00:51,  2.04s/it]No artists with labels found to put in legend.  Note that artists whose label start with an underscore are ignored when legend() is called with no argument.\n",
      " 29%|██▉       | 10/34 [00:21<00:48,  2.00s/it]No artists with labels found to put in legend.  Note that artists whose label start with an underscore are ignored when legend() is called with no argument.\n",
      " 32%|███▏      | 11/34 [00:23<00:49,  2.13s/it]No artists with labels found to put in legend.  Note that artists whose label start with an underscore are ignored when legend() is called with no argument.\n",
      " 35%|███▌      | 12/34 [00:25<00:46,  2.12s/it]No artists with labels found to put in legend.  Note that artists whose label start with an underscore are ignored when legend() is called with no argument.\n",
      " 38%|███▊      | 13/34 [00:27<00:43,  2.06s/it]No artists with labels found to put in legend.  Note that artists whose label start with an underscore are ignored when legend() is called with no argument.\n",
      " 41%|████      | 14/34 [00:29<00:40,  2.04s/it]No artists with labels found to put in legend.  Note that artists whose label start with an underscore are ignored when legend() is called with no argument.\n",
      " 44%|████▍     | 15/34 [00:32<00:40,  2.14s/it]No artists with labels found to put in legend.  Note that artists whose label start with an underscore are ignored when legend() is called with no argument.\n",
      " 47%|████▋     | 16/34 [00:34<00:39,  2.19s/it]No artists with labels found to put in legend.  Note that artists whose label start with an underscore are ignored when legend() is called with no argument.\n",
      " 50%|█████     | 17/34 [00:36<00:37,  2.23s/it]No artists with labels found to put in legend.  Note that artists whose label start with an underscore are ignored when legend() is called with no argument.\n",
      " 53%|█████▎    | 18/34 [00:38<00:35,  2.20s/it]No artists with labels found to put in legend.  Note that artists whose label start with an underscore are ignored when legend() is called with no argument.\n",
      " 56%|█████▌    | 19/34 [00:40<00:32,  2.17s/it]No artists with labels found to put in legend.  Note that artists whose label start with an underscore are ignored when legend() is called with no argument.\n",
      " 59%|█████▉    | 20/34 [00:43<00:31,  2.27s/it]No artists with labels found to put in legend.  Note that artists whose label start with an underscore are ignored when legend() is called with no argument.\n",
      " 62%|██████▏   | 21/34 [00:45<00:29,  2.26s/it]No artists with labels found to put in legend.  Note that artists whose label start with an underscore are ignored when legend() is called with no argument.\n",
      " 65%|██████▍   | 22/34 [00:48<00:27,  2.28s/it]No artists with labels found to put in legend.  Note that artists whose label start with an underscore are ignored when legend() is called with no argument.\n",
      " 68%|██████▊   | 23/34 [00:50<00:24,  2.23s/it]No artists with labels found to put in legend.  Note that artists whose label start with an underscore are ignored when legend() is called with no argument.\n",
      " 71%|███████   | 24/34 [00:52<00:21,  2.19s/it]No artists with labels found to put in legend.  Note that artists whose label start with an underscore are ignored when legend() is called with no argument.\n",
      " 74%|███████▎  | 25/34 [00:54<00:20,  2.32s/it]No artists with labels found to put in legend.  Note that artists whose label start with an underscore are ignored when legend() is called with no argument.\n",
      " 76%|███████▋  | 26/34 [00:56<00:16,  2.09s/it]No artists with labels found to put in legend.  Note that artists whose label start with an underscore are ignored when legend() is called with no argument.\n",
      " 79%|███████▉  | 27/34 [00:57<00:13,  1.92s/it]No artists with labels found to put in legend.  Note that artists whose label start with an underscore are ignored when legend() is called with no argument.\n",
      " 82%|████████▏ | 28/34 [00:59<00:10,  1.79s/it]No artists with labels found to put in legend.  Note that artists whose label start with an underscore are ignored when legend() is called with no argument.\n",
      " 85%|████████▌ | 29/34 [01:00<00:08,  1.71s/it]No artists with labels found to put in legend.  Note that artists whose label start with an underscore are ignored when legend() is called with no argument.\n",
      " 88%|████████▊ | 30/34 [01:03<00:07,  1.88s/it]No artists with labels found to put in legend.  Note that artists whose label start with an underscore are ignored when legend() is called with no argument.\n",
      " 91%|█████████ | 31/34 [01:05<00:06,  2.01s/it]No artists with labels found to put in legend.  Note that artists whose label start with an underscore are ignored when legend() is called with no argument.\n",
      " 94%|█████████▍| 32/34 [01:07<00:04,  2.07s/it]No artists with labels found to put in legend.  Note that artists whose label start with an underscore are ignored when legend() is called with no argument.\n",
      " 97%|█████████▋| 33/34 [01:10<00:02,  2.26s/it]No artists with labels found to put in legend.  Note that artists whose label start with an underscore are ignored when legend() is called with no argument.\n",
      "100%|██████████| 34/34 [01:12<00:00,  2.14s/it]\n"
     ]
    }
   ],
   "source": [
    "if region_id in [0]:\n",
    "    ylim = [1.e-2,1.e6]\n",
    "elif region_id in [1, 2]:\n",
    "    ylim = [1.e-2,1.e8]\n",
    "elif region_id in [3, 4]:\n",
    "    ylim = [1.e-2,1.e4]\n",
    "\n",
    "for var, xlabel, xmin, xmax, nbins, nbins_control in tqdm(variables):\n",
    "\n",
    "    bins = np.linspace(xmin, xmax, nbins)\n",
    "    \n",
    "    if region_id == 0:\n",
    "\n",
    "        # Plot config\n",
    "        fig = plt.figure(figsize=(6,6))\n",
    "        grid = [1,1] # number of rows, number of cols\n",
    "        gspec = gs.GridSpec(grid[0], grid[1], width_ratios=[1], height_ratios=[1])\n",
    "\n",
    "        # Plot code\n",
    "        ax1 = plt.subplot(position(gspec, grid, main=1, sub=1)) # main is column number, sub is row number\n",
    "\n",
    "        for signal in signal_to_use:\n",
    "            ana.step_plot(\n",
    "                ax1, var, ds[signal[\"key\"]],\n",
    "                label=signal[\"label\"], color=signal[\"color\"],\n",
    "                weight=\"evtWeight\", bins=bins\n",
    "            )\n",
    "\n",
    "        ybkg, errbkg = ana.stacked_plot(ax1, var, dataframes, labels, colors, weight=\"evtWeight\", bins=bins)\n",
    "\n",
    "        ana.labels(ax1, ylabel=\"Events\", xlabel=xlabel)\n",
    "        ana.style(\n",
    "            ax1, lumi=metadata[\"luminosity\"].get(dataset_year), year=year_style,\n",
    "            ylog=True, legend_ncol=2, ylim=ylim\n",
    "        )\n",
    "        \n",
    "    else:\n",
    "        \n",
    "        # Skip plotting Nbjets in TTBar control region since the is a dedicated notebook for this\n",
    "        if region_id == 2 and var == \"Nbjets\":\n",
    "            continue\n",
    "\n",
    "        # Plot config\n",
    "        fig = plt.figure(figsize=(6,7.5))\n",
    "        grid = [2,1] # number of rows, number of cols\n",
    "        gspec = gs.GridSpec(grid[0], grid[1], width_ratios=[1], height_ratios=[4, 1])\n",
    "\n",
    "        # Plot code\n",
    "        ax1 = plt.subplot(position(gspec, grid, main=1, sub=1)) # main is column number, sub is row number\n",
    "\n",
    "        for signal in signal_to_use:\n",
    "            ana.step_plot(\n",
    "                ax1, var, ds[signal[\"key\"]],\n",
    "                label=signal[\"label\"], color=signal[\"color\"],\n",
    "                weight=\"evtWeight\", bins=bins\n",
    "            )\n",
    "\n",
    "        ybkg, errbkg = ana.stacked_plot(ax1, var, dataframes, labels, colors, weight=\"evtWeight\", bins=bins)\n",
    "        ydata, errdata = ana.data_plot(ax1, var, ds[\"Data\"], bins=bins)\n",
    "\n",
    "        ana.labels(ax1, ylabel=\"Events\")\n",
    "        ana.style(\n",
    "            ax1, lumi=metadata[\"luminosity\"].get(dataset_year), year=year_style,\n",
    "            ylog=True, legend_ncol=2, ylim=ylim, xticklabels=False\n",
    "        )\n",
    "        \n",
    "        # Sub plot\n",
    "        ax2 = plt.subplot(position(gspec, grid, main=1, sub=2)) # main is column number, sub is row number\n",
    "        ana.ratio_plot( ax2, ydata, errdata, ybkg, errbkg, bins=bins)\n",
    "        ana.labels(ax2, xlabel=xlabel, ylabel=\"Data / Bkg.\")\n",
    "        ana.style(ax2, ylim=[0., 2], yticks=[0, 0.5, 1, 1.5, 2], xgrid=True, ygrid=True)\n",
    "\n",
    "    plt.savefig(f\"{plots_path}/regionID={region_id}/{var}.png\", dpi=200, facecolor='white')\n",
    "    plt.close()\n"
   ]
  },
  {
   "cell_type": "markdown",
   "metadata": {},
   "source": [
    "# Plot ROCs"
   ]
  },
  {
   "cell_type": "code",
   "execution_count": 8,
   "metadata": {},
   "outputs": [
    {
     "name": "stdout",
     "output_type": "stream",
     "text": [
      "Not necessary to plot unless in Signal Region\n"
     ]
    }
   ],
   "source": [
    "if region_id == 0:\n",
    "\n",
    "    for var, xlabel, xmin, xmax, nbins, nbins_control in tqdm(variables):\n",
    "\n",
    "        bins_control = np.linspace(xmin, xmax, nbins_control)\n",
    "\n",
    "        # Plot config\n",
    "        fig = plt.figure(figsize=(7,7))\n",
    "        grid = [1,1] # number of rows, number of cols\n",
    "        gspec = gs.GridSpec(grid[0], grid[1], width_ratios=[1], height_ratios=[1])\n",
    "\n",
    "        # Plot code\n",
    "        ax1 = plt.subplot(position(gspec, grid, main=1, sub=1)) # main is column number, sub is row number\n",
    "\n",
    "        for signal in signal_to_use:\n",
    "            ctr = ana.control(var, [ds[signal[\"key\"]]], dataframes, weight=\"evtWeight\", bins=bins_control)\n",
    "            ctr.roc_plot(label=signal[\"label\"], color=signal[\"color\"])\n",
    "\n",
    "        ana.labels(ax1, ylabel=\"Signal Efficiency\", xlabel=f\"Background rejection [{xlabel}]\")\n",
    "        ana.style(\n",
    "            ax1, lumi=metadata[\"luminosity\"].get(dataset_year), year=year_style,\n",
    "            ygrid=True, xgrid=True, legend_ncol=2, ylim=[0., 1.]\n",
    "        )\n",
    "        plt.savefig(f\"{plots_path}/regionID={region_id}/{var}-ROC.png\", dpi=200, facecolor='white')\n",
    "        plt.close()\n",
    "        \n",
    "else:\n",
    "    print(\"Not necessary to plot unless in Signal Region\")"
   ]
  },
  {
   "cell_type": "markdown",
   "metadata": {},
   "source": [
    "# Jet deltaEta in SR1 and SR2\n",
    "\n",
    "* SR1: Nbjets == 1 and Njets >= 2\n",
    "* SR2: Nbjets >= 2"
   ]
  },
  {
   "cell_type": "code",
   "execution_count": 9,
   "metadata": {},
   "outputs": [
    {
     "name": "stdout",
     "output_type": "stream",
     "text": [
      "Not necessary to plot unless in Signal Region\n"
     ]
    }
   ],
   "source": [
    "if region_id == 0:\n",
    "    ds_filtered = {k: v[[\"RegionID\", \"evtWeight\", \"Dijet_deltaEta\", \"Nbjets\", \"Njets\"]] for k,v in ds.items()}\n",
    "\n",
    "    # Prepare SR1 data\n",
    "    ds_filtered_sr1 = {k: v[(v.Nbjets == 1) & (v.Njets >= 2)] for k,v in ds_filtered.items()}\n",
    "    colors_list = [\"gainsboro\", \"orchid\", \"limegreen\", \"red\", \"skyblue\", \"darkgoldenrod\"]\n",
    "    labels_list = [r\"Residual SM\", r\"$WZ$\", r\"$ZZ$\", \"Single top\", r\"$t\\bar{t}$\", \"Drell-Yan\"]\n",
    "    bkg_list = [\"Residual\", \"WZ\", \"ZZ\", \"ST\", \"TT\", \"DYJetsToLL\"]\n",
    "    ds_filtered_sr1 = {k: v[v.RegionID == region_id] for k,v in ds_filtered_sr1.items()}\n",
    "    dataframes_sr1, labels_sr1, colors_sr1 = stack_sorting(ds_filtered_sr1, colors_list, labels_list, bkg_list)\n",
    "    \n",
    "    # Prepare SR2 data\n",
    "    ds_filtered_sr2 = {k: v[v.Nbjets >= 2] for k,v in ds_filtered.items()}\n",
    "    colors_list = [\"gainsboro\", \"orchid\", \"limegreen\", \"red\", \"skyblue\", \"darkgoldenrod\"]\n",
    "    labels_list = [r\"Residual SM\", r\"$WZ$\", r\"$ZZ$\", \"Single top\", r\"$t\\bar{t}$\", \"Drell-Yan\"]\n",
    "    bkg_list = [\"Residual\", \"WZ\", \"ZZ\", \"ST\", \"TT\", \"DYJetsToLL\"]\n",
    "    ds_filtered_sr2 = {k: v[v.RegionID == region_id] for k,v in ds_filtered_sr2.items()}\n",
    "    dataframes_sr2, labels_sr2, colors_sr2 = stack_sorting(ds_filtered_sr2, colors_list, labels_list, bkg_list)\n",
    "\n",
    "else:\n",
    "    print(\"Not necessary to plot unless in Signal Region\")"
   ]
  },
  {
   "cell_type": "code",
   "execution_count": 10,
   "metadata": {},
   "outputs": [
    {
     "name": "stdout",
     "output_type": "stream",
     "text": [
      "Not necessary to plot unless in Signal Region\n"
     ]
    }
   ],
   "source": [
    "if region_id == 0:\n",
    "    # Signals to use in plot\n",
    "    signal_to_use = process_signals([\n",
    "        (\"Signal_400_100\", \"darkviolet\"),\n",
    "        (\"Signal_1000_100\", \"blue\")\n",
    "    ])\n",
    "\n",
    "    var = \"Dijet_deltaEta\"\n",
    "    xmin = 0\n",
    "    xmax = 6\n",
    "    nbins = 51\n",
    "    xlabel = r\"Dijet $\\Delta \\eta$\"\n",
    "    bins = np.linspace(xmin, xmax, nbins)\n",
    "\n",
    "    # Plot config\n",
    "    fig = plt.figure(figsize=(6,6))\n",
    "    grid = [1,1] # number of rows, number of cols\n",
    "    gspec = gs.GridSpec(grid[0], grid[1], width_ratios=[1], height_ratios=[1])\n",
    "\n",
    "    # Plot code\n",
    "    ax1 = plt.subplot(position(gspec, grid, main=1, sub=1)) # main is column number, sub is row number\n",
    "\n",
    "    for signal in signal_to_use:\n",
    "        ana.step_plot(\n",
    "            ax1, var, ds_filtered_sr1[signal[\"key\"]],\n",
    "            label=signal[\"label\"], color=signal[\"color\"],\n",
    "            weight=\"evtWeight\", bins=bins\n",
    "        )\n",
    "\n",
    "    ybkg, errbkg = ana.stacked_plot(ax1, var, dataframes_sr1, labels_sr1, colors_sr1, weight=\"evtWeight\", bins=bins)\n",
    "\n",
    "    ana.labels(ax1, ylabel=\"Events\", xlabel=xlabel)\n",
    "    ana.style(\n",
    "        ax1, lumi=metadata[\"luminosity\"].get(dataset_year), year=year_style,\n",
    "        ylog=True, legend_ncol=2, ylim=[1.e-2,1.e6]\n",
    "    )\n",
    "    plt.savefig(f\"{plots_path}/regionID={region_id}/{var}-SR1.png\", dpi=200, facecolor='white')\n",
    "    plt.show()\n",
    "    plt.close()\n",
    "\n",
    "else:\n",
    "    print(\"Not necessary to plot unless in Signal Region\")"
   ]
  },
  {
   "cell_type": "code",
   "execution_count": 11,
   "metadata": {},
   "outputs": [
    {
     "name": "stdout",
     "output_type": "stream",
     "text": [
      "Not necessary to plot unless in Signal Region\n"
     ]
    }
   ],
   "source": [
    "if region_id == 0:\n",
    "    # Signals to use in plot\n",
    "    signal_to_use = process_signals([\n",
    "        (\"Signal_400_100\", \"darkviolet\"),\n",
    "        (\"Signal_1000_100\", \"blue\")\n",
    "    ])\n",
    "\n",
    "    var = \"Dijet_deltaEta\"\n",
    "    xmin = 0\n",
    "    xmax = 6\n",
    "    nbins = 51\n",
    "    xlabel = r\"Dijet $\\Delta \\eta$\"\n",
    "    bins = np.linspace(xmin, xmax, nbins)\n",
    "\n",
    "    # Plot config\n",
    "    fig = plt.figure(figsize=(6,6))\n",
    "    grid = [1,1] # number of rows, number of cols\n",
    "    gspec = gs.GridSpec(grid[0], grid[1], width_ratios=[1], height_ratios=[1])\n",
    "\n",
    "    # Plot code\n",
    "    ax1 = plt.subplot(position(gspec, grid, main=1, sub=1)) # main is column number, sub is row number\n",
    "\n",
    "    for signal in signal_to_use:\n",
    "        ana.step_plot(\n",
    "            ax1, var, ds_filtered_sr2[signal[\"key\"]],\n",
    "            label=signal[\"label\"], color=signal[\"color\"],\n",
    "            weight=\"evtWeight\", bins=bins\n",
    "        )\n",
    "\n",
    "    ybkg, errbkg = ana.stacked_plot(ax1, var, dataframes_sr2, labels_sr2, colors_sr2, weight=\"evtWeight\", bins=bins)\n",
    "\n",
    "    ana.labels(ax1, ylabel=\"Events\", xlabel=xlabel)\n",
    "    ana.style(\n",
    "        ax1, lumi=metadata[\"luminosity\"].get(dataset_year), year=year_style,\n",
    "        ylog=True, legend_ncol=2, ylim=[1.e-2,1.e6]\n",
    "    )\n",
    "    plt.savefig(f\"{plots_path}/regionID={region_id}/{var}-SR2.png\", dpi=200, facecolor='white')\n",
    "    plt.show()\n",
    "    plt.close()\n",
    "\n",
    "else:\n",
    "    print(\"Not necessary to plot unless in Signal Region\")"
   ]
  },
  {
   "cell_type": "code",
   "execution_count": null,
   "metadata": {},
   "outputs": [],
   "source": []
  }
 ],
 "metadata": {
  "kernelspec": {
   "display_name": "Python 3 (ipykernel)",
   "language": "python",
   "name": "python3"
  },
  "language_info": {
   "codemirror_mode": {
    "name": "ipython",
    "version": 3
   },
   "file_extension": ".py",
   "mimetype": "text/x-python",
   "name": "python",
   "nbconvert_exporter": "python",
   "pygments_lexer": "ipython3",
   "version": "3.8.12"
  },
  "vscode": {
   "interpreter": {
    "hash": "b2506951dc893118884e76a5b30b10013d3fb3ee7201be2b9c770a606eefaec1"
   }
  }
 },
 "nbformat": 4,
 "nbformat_minor": 4
}
