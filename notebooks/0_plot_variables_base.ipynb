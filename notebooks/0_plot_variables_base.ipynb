{
 "cells": [
  {
   "cell_type": "code",
   "execution_count": 1,
   "metadata": {},
   "outputs": [],
   "source": [
    "import pprint\n",
    "import json\n",
    "from pathlib import Path\n",
    "\n",
    "from tqdm import tqdm\n",
    "import numpy as np\n",
    "import pandas as pd\n",
    "import matplotlib.pyplot as plt\n",
    "import matplotlib.gridspec as gs\n",
    "import anatools.data as data\n",
    "import anatools.analysis as ana\n",
    "\n",
    "from hhdm_analysis.utils import signal_label, stack_sorting, position, process_signals\n",
    "\n",
    "ana.start()\n",
    "plt.style.use(\"default\")"
   ]
  },
  {
   "cell_type": "markdown",
   "metadata": {},
   "source": [
    "# Setup config"
   ]
  },
  {
   "cell_type": "code",
   "execution_count": 2,
   "metadata": {},
   "outputs": [],
   "source": [
    "period = '18'\n",
    "year_style = 2018\n",
    "dataset_year = \"2018\"\n",
    "basedir = \"/home/gamoreir/SanDisk/physics/hhdmAnalysis_deepJet_Base/datasets\"\n",
    "region_id = \"base\"\n",
    "\n",
    "# Setup output folders\n",
    "dataset_name = basedir.split('/')[-2]\n",
    "plots_path = f\"./figures/{dataset_name}/{dataset_year}\"\n",
    "available_region_ids = [\"base\"]\n",
    "for available_region_id in available_region_ids:\n",
    "    Path(f\"{plots_path}/regionID={available_region_id}\").mkdir(parents=True, exist_ok=True)"
   ]
  },
  {
   "cell_type": "markdown",
   "metadata": {},
   "source": [
    "# Read metadata"
   ]
  },
  {
   "cell_type": "code",
   "execution_count": 3,
   "metadata": {},
   "outputs": [],
   "source": [
    "with open(\"../metadata.json\", \"r\") as f:\n",
    "    metadata = json.load(f)\n",
    "\n",
    "ST = metadata.get(\"datasets\").get(\"ST\")\n",
    "TT = metadata.get(\"datasets\").get(\"TT\")\n",
    "ZZ = metadata.get(\"datasets\").get(\"ZZ\")\n",
    "WZ = metadata.get(\"datasets\").get(\"WZ\")\n",
    "DY = metadata.get(\"datasets\").get(\"DY\")\n",
    "RESIDUAL = metadata.get(\"datasets\").get(\"RESIDUAL\")\n",
    "DATA = metadata.get(\"datasets\").get(\"DATA\")"
   ]
  },
  {
   "cell_type": "markdown",
   "metadata": {},
   "source": [
    "# Load datasets"
   ]
  },
  {
   "cell_type": "code",
   "execution_count": 4,
   "metadata": {},
   "outputs": [
    {
     "name": "stdout",
     "output_type": "stream",
     "text": [
      "\n",
      "Loading datasets...\n"
     ]
    },
    {
     "name": "stderr",
     "output_type": "stream",
     "text": [
      "100%|██████████| 74/74 [00:27<00:00,  2.65it/s]\n"
     ]
    },
    {
     "name": "stdout",
     "output_type": "stream",
     "text": [
      "Signal_400_100 (172235, 41)\n",
      "Signal_1000_100 (234524, 41)\n",
      "ST (66442, 41)\n",
      "TT (1862737, 41)\n",
      "ZZ (4491285, 41)\n",
      "WZ (33465, 41)\n",
      "DYJetsToLL (6924774, 43)\n",
      "Residual (585911, 41)\n",
      "Data (1288226, 41)\n"
     ]
    }
   ],
   "source": [
    "ds = data.read_files(basedir, period, mode=\"normal\")\n",
    "\n",
    "data.join_datasets(ds, \"ST\", ST.get(period), mode=\"normal\")\n",
    "data.join_datasets(ds, \"TT\", TT.get(period), mode=\"normal\")\n",
    "data.join_datasets(ds, \"ZZ\", ZZ.get(period), mode=\"normal\")\n",
    "data.join_datasets(ds, \"WZ\", WZ.get(period), mode=\"normal\")\n",
    "data.join_datasets(ds, \"DYJetsToLL\", DY.get(period), mode=\"normal\")\n",
    "data.join_datasets(ds, \"Residual\", RESIDUAL.get(period), mode=\"normal\")\n",
    "data.join_datasets(ds, \"Data\", DATA.get(period), mode=\"normal\")\n",
    "\n",
    "print(\"Signal_400_100\", ds[\"Signal_400_100\"].shape)\n",
    "print(\"Signal_1000_100\", ds[\"Signal_1000_100\"].shape)\n",
    "print(\"ST\", ds[\"ST\"].shape)\n",
    "print(\"TT\", ds[\"TT\"].shape)\n",
    "print(\"ZZ\", ds[\"ZZ\"].shape)\n",
    "print(\"WZ\", ds[\"WZ\"].shape)\n",
    "print(\"DYJetsToLL\", ds[\"DYJetsToLL\"].shape)\n",
    "print(\"Residual\", ds[\"Residual\"].shape)\n",
    "print(\"Data\", ds[\"Data\"].shape)"
   ]
  },
  {
   "cell_type": "markdown",
   "metadata": {},
   "source": [
    "# Prepare dataset to plot"
   ]
  },
  {
   "cell_type": "code",
   "execution_count": 5,
   "metadata": {},
   "outputs": [
    {
     "name": "stdout",
     "output_type": "stream",
     "text": [
      "      Datasets  Number of events\n",
      "0  Residual SM      18576.502634\n",
      "1         $ZZ$       4179.379216\n",
      "2         $WZ$       4543.627170\n",
      "3   Single top      10272.308699\n",
      "4   $t\\bar{t}$      62247.809392\n",
      "5    Drell-Yan     696507.308643\n",
      "Purity: 0.8746499425933031\n"
     ]
    }
   ],
   "source": [
    "colors_list = [\"gainsboro\", \"orchid\", \"limegreen\", \"red\", \"skyblue\", \"darkgoldenrod\"]\n",
    "labels_list = [r\"Residual SM\", r\"$WZ$\", r\"$ZZ$\", \"Single top\", r\"$t\\bar{t}$\", \"Drell-Yan\"]\n",
    "bkg_list = [\"Residual\", \"WZ\", \"ZZ\", \"ST\", \"TT\", \"DYJetsToLL\"]\n",
    "dataframes, labels, colors = stack_sorting(ds, colors_list, labels_list, bkg_list)"
   ]
  },
  {
   "cell_type": "markdown",
   "metadata": {},
   "source": [
    "# Define variables to plot"
   ]
  },
  {
   "cell_type": "code",
   "execution_count": 6,
   "metadata": {},
   "outputs": [],
   "source": [
    "# Signals to use in plot\n",
    "signal_to_use = process_signals([\n",
    "    (\"Signal_400_100\", \"darkviolet\"),\n",
    "    (\"Signal_1000_100\", \"blue\")\n",
    "])\n",
    "\n",
    "# Variables to plot\n",
    "variables = [\n",
    "    ('Dijet_H_deltaPhi', r\"Dijet $\\Delta \\phi$\", 0, 6, 51, 5001),\n",
    "    ('Dijet_H_pt', r\"Dijet $H$ $p_T$ [GeV]\", 0, 1000, 51, 5001),\n",
    "    ('Dijet_M', r\"Dijet $M$ [GeV]\", 0, 1000, 51, 5001),\n",
    "    ('Dijet_deltaEta', r\"Dijet $\\Delta \\eta$\", 0, 6, 51, 5001),\n",
    "    ('Dijet_pt', r\"Dijet $p_T$ [GeV]\", 0, 1000, 51, 5001),\n",
    "    ('HT', '$H_{T}$ [GeV]', 0, 1000, 51, 5001),\n",
    "    ('Jet_abseta_max', r\"Most Forward Jet $|\\eta|$\", 0, 5, 51, 5001),\n",
    "    ('LeadingJet_eta', r\"leading jet $|\\eta|$\", -3, 3, 51, 5001),\n",
    "    ('LeadingJet_phi', r\"leading jet $\\phi$\", -4, 4, 51, 5001),\n",
    "    ('LeadingJet_pt', r\"leading jet $p_{T}$ [GeV]\", 0, 1000, 51, 5001),\n",
    "    ('LeadingLep_eta', r\"leading lepton $|\\eta|$\", 0, 3, 51, 5001),\n",
    "    ('LeadingLep_pt', r\"leading lepton $p_{T}$ [GeV]\", 0, 1000, 51, 5001),\n",
    "    ('LepLep_deltaM', r\"$|M_{\\ell \\ell} - M_{Z}|$ [GeV]\", 0, 30, 21, 5001),\n",
    "    ('LepLep_deltaR', r\"$\\Delta R^{\\ell \\ell}$\", 0, 4, 51, 5001),\n",
    "    ('LepLep_eta', r\"$|\\eta|^{\\ell \\ell}$\", 0, 5, 51, 5001),\n",
    "    ('LepLep_mass', r\"$M^{\\ell \\ell}$ [GeV]\", 50, 130, 51, 5001),\n",
    "    (\"LepLep_phi\", r\"$\\phi^{\\ell \\ell}$\", -4, 4, 51, 5001),\n",
    "    ('LepLep_pt', r\"$p_{T}^{\\ell \\ell}$ [GeV]\", 0, 1000, 51, 5001),\n",
    "    ('MET_LepLep_Mt', r\"$M^{\\ell \\ell, MET}_{T}$ [GeV]\", 0, 1000, 51, 5001),\n",
    "    (\"MET_LepLep_deltaPhi\", r\"$\\Delta \\phi^{\\ell \\ell+MET}$\", 0, 6, 51, 5001),\n",
    "    ('MET_LepLep_deltaPt', r\"$\\Delta p^{\\ell \\ell, MET}_{T}$ [GeV]\", 0, 30, 51, 5001),\n",
    "    (\"MET_phi\", \"MET $\\phi$\", -4, 4, 51, 5001),\n",
    "    ('MET_pt',  r\"MET $p_{T}$ [GeV]\", 0, 1000, 51, 5001),\n",
    "    ('MHT', '$M$ $H_{T}$ [GeV]', 0, 1000, 51, 5001),\n",
    "    (\"MT2LL\", \"MT2LL\", 0, 700, 51, 5001),\n",
    "    (\"Nbjets\", \"Number of b-jets\", 0, 10, 11, 5001),\n",
    "    (\"Njets\", \"Number of jets\", 0, 10, 11, 5001),\n",
    "    ('Njets_forward', 'Number of forward jets', 0, 10, 11, 5001),\n",
    "    ('Njets_tight', 'Number of tight jets', 0, 10, 11, 5001),\n",
    "    ('SubLeadingJet_eta', r\"subleading jet $|\\eta|$\", -3, 3, 51, 5001),\n",
    "    ('SubLeadingJet_phi', r\"subleading jet $\\phi$\", -4, 4, 51, 5001),\n",
    "    ('SubLeadingJet_pt', r\"subleading jet $p_{T}$ [GeV]\", 0, 1000, 51, 5001),\n",
    "    ('TrailingLep_eta',  r\"trailing lepton $|\\eta|$\", -3, 3, 51, 5001),\n",
    "    (\"TrailingLep_pt\", r\"trailing lepton $p_{T}$ [GeV]\", 0, 700, 51, 5001)\n",
    "]"
   ]
  },
  {
   "cell_type": "markdown",
   "metadata": {},
   "source": [
    "# Plot distributions"
   ]
  },
  {
   "cell_type": "code",
   "execution_count": 7,
   "metadata": {},
   "outputs": [
    {
     "name": "stderr",
     "output_type": "stream",
     "text": [
      "100%|██████████| 34/34 [02:54<00:00,  5.13s/it]\n"
     ]
    }
   ],
   "source": [
    "for var, xlabel, xmin, xmax, nbins, nbins_control in tqdm(variables):\n",
    "\n",
    "    bins = np.linspace(xmin, xmax, nbins)\n",
    "\n",
    "    # Plot config\n",
    "    fig = plt.figure(figsize=(6,6))\n",
    "    grid = [1,1] # number of rows, number of cols\n",
    "    gspec = gs.GridSpec(grid[0], grid[1], width_ratios=[1], height_ratios=[1])\n",
    "\n",
    "    # Plot code\n",
    "    ax1 = plt.subplot(position(gspec, grid, main=1, sub=1)) # main is column number, sub is row number\n",
    "\n",
    "    for signal in signal_to_use:\n",
    "        ana.step_plot(\n",
    "            ax1, var, ds[signal[\"key\"]],\n",
    "            label=signal[\"label\"], color=signal[\"color\"],\n",
    "            weight=\"evtWeight\", bins=bins\n",
    "        )\n",
    "\n",
    "    ybkg, errbkg = ana.stacked_plot(ax1, var, dataframes, labels, colors, weight=\"evtWeight\", bins=bins)\n",
    "\n",
    "    ana.labels(ax1, ylabel=\"Events\", xlabel=xlabel)\n",
    "    ana.style(\n",
    "        ax1, lumi=metadata[\"luminosity\"].get(dataset_year), year=year_style,\n",
    "        ylog=True, legend_ncol=2, ylim=[1.e-2,1.e8]\n",
    "    )\n",
    "\n",
    "    plt.savefig(f\"{plots_path}/regionID={region_id}/{var}.png\", dpi=200, facecolor='white')\n",
    "    plt.close()\n"
   ]
  },
  {
   "cell_type": "code",
   "execution_count": null,
   "metadata": {},
   "outputs": [],
   "source": []
  }
 ],
 "metadata": {
  "kernelspec": {
   "display_name": "Python 3 (ipykernel)",
   "language": "python",
   "name": "python3"
  },
  "language_info": {
   "codemirror_mode": {
    "name": "ipython",
    "version": 3
   },
   "file_extension": ".py",
   "mimetype": "text/x-python",
   "name": "python",
   "nbconvert_exporter": "python",
   "pygments_lexer": "ipython3",
   "version": "3.8.12"
  },
  "vscode": {
   "interpreter": {
    "hash": "b2506951dc893118884e76a5b30b10013d3fb3ee7201be2b9c770a606eefaec1"
   }
  }
 },
 "nbformat": 4,
 "nbformat_minor": 4
}
